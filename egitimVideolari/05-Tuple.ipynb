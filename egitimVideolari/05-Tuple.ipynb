{
 "cells": [
  {
   "cell_type": "code",
   "execution_count": 4,
   "id": "87df0fa6-c1e5-4d91-8ebd-78fec47b9692",
   "metadata": {},
   "outputs": [],
   "source": [
    "myList = [1,2,\"a\",4.5]"
   ]
  },
  {
   "cell_type": "code",
   "execution_count": 5,
   "id": "a970ec74-0ba1-4d64-bb7c-e944021b040d",
   "metadata": {},
   "outputs": [
    {
     "data": {
      "text/plain": [
       "1"
      ]
     },
     "execution_count": 5,
     "metadata": {},
     "output_type": "execute_result"
    }
   ],
   "source": [
    "myList[0]"
   ]
  },
  {
   "cell_type": "code",
   "execution_count": 6,
   "id": "8c96e474-a467-4406-85bb-8dde18f5767a",
   "metadata": {},
   "outputs": [],
   "source": [
    "myList[0] = 100"
   ]
  },
  {
   "cell_type": "code",
   "execution_count": 7,
   "id": "253a2151-1e9a-4918-b32f-e2489318038a",
   "metadata": {},
   "outputs": [
    {
     "data": {
      "text/plain": [
       "[100, 2, 'a', 4.5]"
      ]
     },
     "execution_count": 7,
     "metadata": {},
     "output_type": "execute_result"
    }
   ],
   "source": [
    "myList"
   ]
  },
  {
   "cell_type": "code",
   "execution_count": 8,
   "id": "e33e5383-db3b-426d-8804-1489598e43e6",
   "metadata": {},
   "outputs": [],
   "source": [
    "myTuple = (1,2,\"a\",4.5)"
   ]
  },
  {
   "cell_type": "code",
   "execution_count": 9,
   "id": "fa2c8bba-605c-40c9-ac91-f9dc35059247",
   "metadata": {},
   "outputs": [
    {
     "data": {
      "text/plain": [
       "(1, 2, 'a', 4.5)"
      ]
     },
     "execution_count": 9,
     "metadata": {},
     "output_type": "execute_result"
    }
   ],
   "source": [
    "myTuple"
   ]
  },
  {
   "cell_type": "code",
   "execution_count": 10,
   "id": "a6e5efef-a5ed-436f-88a7-d01a661b58cc",
   "metadata": {},
   "outputs": [
    {
     "data": {
      "text/plain": [
       "1"
      ]
     },
     "execution_count": 10,
     "metadata": {},
     "output_type": "execute_result"
    }
   ],
   "source": [
    "myTuple[0]"
   ]
  },
  {
   "cell_type": "code",
   "execution_count": 13,
   "id": "298bf92f-fd5e-4baf-89db-f4e887aee4f6",
   "metadata": {},
   "outputs": [],
   "source": [
    "#myTuple[2] = \"b\""
   ]
  },
  {
   "cell_type": "code",
   "execution_count": 14,
   "id": "2d54cf04-3f32-42ae-8714-daf473280589",
   "metadata": {},
   "outputs": [
    {
     "data": {
      "text/plain": [
       "1"
      ]
     },
     "execution_count": 14,
     "metadata": {},
     "output_type": "execute_result"
    }
   ],
   "source": [
    "myTuple.count(\"a\")"
   ]
  },
  {
   "cell_type": "code",
   "execution_count": 15,
   "id": "f777617c-c0a7-4c79-a6d8-b28ddd23e7ad",
   "metadata": {},
   "outputs": [
    {
     "data": {
      "text/plain": [
       "3"
      ]
     },
     "execution_count": 15,
     "metadata": {},
     "output_type": "execute_result"
    }
   ],
   "source": [
    "myTuple.index(4.5)"
   ]
  },
  {
   "cell_type": "code",
   "execution_count": null,
   "id": "f39fb919-26c5-483a-a17e-0d90d02d060f",
   "metadata": {},
   "outputs": [],
   "source": []
  }
 ],
 "metadata": {
  "kernelspec": {
   "display_name": "Python [conda env:base] *",
   "language": "python",
   "name": "conda-base-py"
  },
  "language_info": {
   "codemirror_mode": {
    "name": "ipython",
    "version": 3
   },
   "file_extension": ".py",
   "mimetype": "text/x-python",
   "name": "python",
   "nbconvert_exporter": "python",
   "pygments_lexer": "ipython3",
   "version": "3.12.7"
  }
 },
 "nbformat": 4,
 "nbformat_minor": 5
}
