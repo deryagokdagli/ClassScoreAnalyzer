{
 "cells": [
  {
   "cell_type": "markdown",
   "id": "0cd00e94-1949-4b68-840a-e6013547424f",
   "metadata": {},
   "source": [
    "## 2) Sinema"
   ]
  },
  {
   "cell_type": "code",
   "execution_count": 2,
   "id": "f2cb22ae-cc8d-4877-bb27-4bb565fdb2a1",
   "metadata": {},
   "outputs": [
    {
     "name": "stdout",
     "output_type": "stream",
     "text": [
      "Hoş geldiniz, lütfen almak istediğiniz ürünleri seçin.\n",
      "- Bilet : 120\n",
      "- Su : 10\n",
      "- Kola : 35\n",
      "- Patlamış Mısır : 50\n"
     ]
    },
    {
     "name": "stdin",
     "output_type": "stream",
     "text": [
      "Kaç adet bilet almak istiyorsunuz? 4\n"
     ]
    },
    {
     "name": "stdout",
     "output_type": "stream",
     "text": [
      "Koltuk(lar)ınız otomatik olarak atanıyor...\n",
      "Atanan koltuk(lar): C2, C1, B2, A1\n"
     ]
    },
    {
     "name": "stdin",
     "output_type": "stream",
     "text": [
      "Kaç adet su almak istiyorsunuz? 3\n",
      "Kaç adet kola almak istiyorsunuz? 1\n",
      "Kaç adet patlamış mısır almak istiyorsunuz? 0\n"
     ]
    },
    {
     "name": "stdout",
     "output_type": "stream",
     "text": [
      "Toplam ödeme tutarınız: 545\n"
     ]
    }
   ],
   "source": [
    "import random\n",
    "fiyatlar = {\"Bilet\" : 120, \"Su\" : 10, \"Kola\" : 35, \"Patlamış Mısır\" : 50}\n",
    "koltuklar = [\"A1\", \"A2\", \"A3\", \"B1\", \"B2\", \"B3\", \"C1\", \"C2\", \"C3\"]\n",
    "print(\"Hoş geldiniz, lütfen almak istediğiniz ürünleri seçin.\")\n",
    "for (key,value) in fiyatlar.items():\n",
    "    print(f\"- {key} : {value}\")\n",
    "\n",
    "def hesapla(bilet,su,kola,patlamisMisir):\n",
    "    toplam = (bilet * fiyatlar[\"Bilet\"] + su * fiyatlar[\"Su\"] + kola * fiyatlar[\"Kola\"] + patlamisMisir * fiyatlar[\"Patlamış Mısır\"])\n",
    "    return (f\"Toplam ödeme tutarınız: {toplam}\")\n",
    "\n",
    "bilet = int(input(\"Kaç adet bilet almak istiyorsunuz?\"))\n",
    "if bilet > 0:\n",
    "    secilenKoltuklar = random.sample(koltuklar, bilet)\n",
    "    print(\"Koltuk(lar)ınız otomatik olarak atanıyor...\")\n",
    "    print(\"Atanan koltuk(lar): \" + \", \".join(secilenKoltuklar))\n",
    "su = int(input(\"Kaç adet su almak istiyorsunuz?\"))\n",
    "kola = int(input(\"Kaç adet kola almak istiyorsunuz?\"))\n",
    "patlamisMisir = int(input(\"Kaç adet patlamış mısır almak istiyorsunuz?\"))\n",
    "print(hesapla(bilet,su,kola,patlamisMisir))"
   ]
  },
  {
   "cell_type": "code",
   "execution_count": null,
   "id": "99f77673-6e3c-4a3f-ac4a-72d1a989be80",
   "metadata": {},
   "outputs": [],
   "source": []
  }
 ],
 "metadata": {
  "kernelspec": {
   "display_name": "Python [conda env:base] *",
   "language": "python",
   "name": "conda-base-py"
  },
  "language_info": {
   "codemirror_mode": {
    "name": "ipython",
    "version": 3
   },
   "file_extension": ".py",
   "mimetype": "text/x-python",
   "name": "python",
   "nbconvert_exporter": "python",
   "pygments_lexer": "ipython3",
   "version": "3.12.7"
  }
 },
 "nbformat": 4,
 "nbformat_minor": 5
}
