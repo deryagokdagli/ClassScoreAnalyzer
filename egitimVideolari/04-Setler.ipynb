{
 "cells": [
  {
   "cell_type": "code",
   "execution_count": 1,
   "id": "4d2ed3c8-a1db-412e-b212-e5805ffed8cb",
   "metadata": {},
   "outputs": [],
   "source": [
    "myList = [1,2,3,1,2,3]"
   ]
  },
  {
   "cell_type": "code",
   "execution_count": 2,
   "id": "e094b402-4fe2-40ac-a231-512c2bce9ee5",
   "metadata": {},
   "outputs": [
    {
     "data": {
      "text/plain": [
       "1"
      ]
     },
     "execution_count": 2,
     "metadata": {},
     "output_type": "execute_result"
    }
   ],
   "source": [
    "myList[0]"
   ]
  },
  {
   "cell_type": "code",
   "execution_count": 3,
   "id": "2c333ee6-b341-4ca5-8fa4-580f9b2929bb",
   "metadata": {},
   "outputs": [
    {
     "data": {
      "text/plain": [
       "[1, 2, 3, 1, 2, 3]"
      ]
     },
     "execution_count": 3,
     "metadata": {},
     "output_type": "execute_result"
    }
   ],
   "source": [
    "myList"
   ]
  },
  {
   "cell_type": "code",
   "execution_count": 4,
   "id": "4a8117bb-2e5e-413e-b5fe-927fabafc3ff",
   "metadata": {},
   "outputs": [],
   "source": [
    "myListSet = set(myList)"
   ]
  },
  {
   "cell_type": "code",
   "execution_count": 5,
   "id": "05b60c27-91f3-4d27-beed-bd406c129001",
   "metadata": {},
   "outputs": [
    {
     "data": {
      "text/plain": [
       "list"
      ]
     },
     "execution_count": 5,
     "metadata": {},
     "output_type": "execute_result"
    }
   ],
   "source": [
    "type(myList)"
   ]
  },
  {
   "cell_type": "code",
   "execution_count": 6,
   "id": "5f26b90f-11f8-45fe-9910-7623e19dbf8a",
   "metadata": {},
   "outputs": [
    {
     "data": {
      "text/plain": [
       "set"
      ]
     },
     "execution_count": 6,
     "metadata": {},
     "output_type": "execute_result"
    }
   ],
   "source": [
    "type(myListSet)"
   ]
  },
  {
   "cell_type": "code",
   "execution_count": 7,
   "id": "ea7a5659-42bb-437f-aa57-8a8db17da02e",
   "metadata": {},
   "outputs": [
    {
     "data": {
      "text/plain": [
       "{1, 2, 3}"
      ]
     },
     "execution_count": 7,
     "metadata": {},
     "output_type": "execute_result"
    }
   ],
   "source": [
    "myListSet"
   ]
  },
  {
   "cell_type": "code",
   "execution_count": 10,
   "id": "09171911-65e8-411c-b47f-346429bb76e5",
   "metadata": {},
   "outputs": [],
   "source": [
    "mySet = {\"a\",\"b\",\"c\",\"a\"}"
   ]
  },
  {
   "cell_type": "code",
   "execution_count": 11,
   "id": "6f5f9273-474b-431c-acfc-47463fa47792",
   "metadata": {},
   "outputs": [
    {
     "data": {
      "text/plain": [
       "set"
      ]
     },
     "execution_count": 11,
     "metadata": {},
     "output_type": "execute_result"
    }
   ],
   "source": [
    "type(mySet)"
   ]
  },
  {
   "cell_type": "code",
   "execution_count": 12,
   "id": "95c2497a-ac9f-49f2-bb82-d6714d5cc5c8",
   "metadata": {},
   "outputs": [
    {
     "data": {
      "text/plain": [
       "{'a', 'b', 'c'}"
      ]
     },
     "execution_count": 12,
     "metadata": {},
     "output_type": "execute_result"
    }
   ],
   "source": [
    "mySet"
   ]
  },
  {
   "cell_type": "code",
   "execution_count": 13,
   "id": "31e76183-403a-4e5a-bd19-32836f88b787",
   "metadata": {},
   "outputs": [],
   "source": [
    "emptyList = []"
   ]
  },
  {
   "cell_type": "code",
   "execution_count": 14,
   "id": "939fc279-e3c7-4b85-93f5-b493a0d09559",
   "metadata": {},
   "outputs": [
    {
     "data": {
      "text/plain": [
       "list"
      ]
     },
     "execution_count": 14,
     "metadata": {},
     "output_type": "execute_result"
    }
   ],
   "source": [
    "type(emptyList)"
   ]
  },
  {
   "cell_type": "code",
   "execution_count": 15,
   "id": "01be4bc6-e0ce-4b92-859e-fd3eb338fe4e",
   "metadata": {},
   "outputs": [
    {
     "data": {
      "text/plain": [
       "[]"
      ]
     },
     "execution_count": 15,
     "metadata": {},
     "output_type": "execute_result"
    }
   ],
   "source": [
    "emptyList"
   ]
  },
  {
   "cell_type": "code",
   "execution_count": 16,
   "id": "077c1e20-ef7a-48dd-8a3c-51b34feaeec9",
   "metadata": {},
   "outputs": [],
   "source": [
    "emptyList.append(1)"
   ]
  },
  {
   "cell_type": "code",
   "execution_count": 17,
   "id": "485abbff-d77d-4ff7-92da-051e7b6bac1b",
   "metadata": {},
   "outputs": [
    {
     "data": {
      "text/plain": [
       "[1]"
      ]
     },
     "execution_count": 17,
     "metadata": {},
     "output_type": "execute_result"
    }
   ],
   "source": [
    "emptyList"
   ]
  },
  {
   "cell_type": "code",
   "execution_count": 20,
   "id": "326f0bdc-bc90-4d82-8904-d016f495ba0e",
   "metadata": {},
   "outputs": [],
   "source": [
    "emptyDictionary = {}"
   ]
  },
  {
   "cell_type": "code",
   "execution_count": 21,
   "id": "0e048a53-d40d-42b7-9718-127c126516f1",
   "metadata": {},
   "outputs": [
    {
     "data": {
      "text/plain": [
       "dict"
      ]
     },
     "execution_count": 21,
     "metadata": {},
     "output_type": "execute_result"
    }
   ],
   "source": [
    "type(emptyDictionary)"
   ]
  },
  {
   "cell_type": "code",
   "execution_count": 22,
   "id": "c710ef43-a067-4ddb-954f-3260b8ee4995",
   "metadata": {},
   "outputs": [],
   "source": [
    "emptyDictionary[\"anahtarkelime\"] = 10"
   ]
  },
  {
   "cell_type": "code",
   "execution_count": 23,
   "id": "15096714-a794-45d0-8160-61a9c7ee369e",
   "metadata": {},
   "outputs": [
    {
     "data": {
      "text/plain": [
       "{'anahtarkelime': 10}"
      ]
     },
     "execution_count": 23,
     "metadata": {},
     "output_type": "execute_result"
    }
   ],
   "source": [
    "emptyDictionary"
   ]
  },
  {
   "cell_type": "code",
   "execution_count": 24,
   "id": "35f429c2-486f-4896-9cfe-69fcbe9f0581",
   "metadata": {},
   "outputs": [],
   "source": [
    "myEmptySet = set()"
   ]
  },
  {
   "cell_type": "code",
   "execution_count": 25,
   "id": "3f09ebbd-630f-490a-acaa-6582195e8c8f",
   "metadata": {},
   "outputs": [
    {
     "data": {
      "text/plain": [
       "set()"
      ]
     },
     "execution_count": 25,
     "metadata": {},
     "output_type": "execute_result"
    }
   ],
   "source": [
    "myEmptySet"
   ]
  },
  {
   "cell_type": "code",
   "execution_count": 26,
   "id": "bff97408-2b47-4e0d-bc08-5643a56e3a1b",
   "metadata": {},
   "outputs": [],
   "source": [
    "myEmptySet.add(10)"
   ]
  },
  {
   "cell_type": "code",
   "execution_count": 27,
   "id": "b63aa664-f957-476f-88fb-122097f3ab73",
   "metadata": {},
   "outputs": [],
   "source": [
    "myEmptySet.add(10)"
   ]
  },
  {
   "cell_type": "code",
   "execution_count": 28,
   "id": "a51835dd-8220-442b-ac4d-09802f5a75a5",
   "metadata": {},
   "outputs": [],
   "source": [
    "myEmptySet.add(20)"
   ]
  },
  {
   "cell_type": "code",
   "execution_count": 29,
   "id": "1ab7741e-f270-454d-8a71-f7501d170767",
   "metadata": {},
   "outputs": [
    {
     "data": {
      "text/plain": [
       "{10, 20}"
      ]
     },
     "execution_count": 29,
     "metadata": {},
     "output_type": "execute_result"
    }
   ],
   "source": [
    "myEmptySet"
   ]
  },
  {
   "cell_type": "code",
   "execution_count": 30,
   "id": "927a7696-7509-40ce-8c25-d200cc53f31e",
   "metadata": {},
   "outputs": [],
   "source": [
    "myEmptyList = list()"
   ]
  },
  {
   "cell_type": "code",
   "execution_count": 31,
   "id": "c5b28f34-614c-40b9-b085-a0037b5f0b97",
   "metadata": {},
   "outputs": [
    {
     "data": {
      "text/plain": [
       "[]"
      ]
     },
     "execution_count": 31,
     "metadata": {},
     "output_type": "execute_result"
    }
   ],
   "source": [
    "myEmptyList"
   ]
  },
  {
   "cell_type": "code",
   "execution_count": 33,
   "id": "70db08c2-86e5-4f47-ae71-105754efdc49",
   "metadata": {},
   "outputs": [],
   "source": [
    "myEmptyList.append(10)"
   ]
  },
  {
   "cell_type": "code",
   "execution_count": 34,
   "id": "4ac5314f-9468-4934-b0eb-743ac23804a2",
   "metadata": {},
   "outputs": [
    {
     "data": {
      "text/plain": [
       "[10]"
      ]
     },
     "execution_count": 34,
     "metadata": {},
     "output_type": "execute_result"
    }
   ],
   "source": [
    "myEmptyList"
   ]
  },
  {
   "cell_type": "code",
   "execution_count": 35,
   "id": "e91fd3c7-60b6-4c97-ac97-1a1bf69e99c2",
   "metadata": {},
   "outputs": [],
   "source": [
    "myEmptyDictionary = dict()"
   ]
  },
  {
   "cell_type": "code",
   "execution_count": 36,
   "id": "12070119-839b-4d7b-8696-cce2a38cf2a4",
   "metadata": {},
   "outputs": [],
   "source": [
    "myEmptyDictionary[\"key\"] = 2321"
   ]
  },
  {
   "cell_type": "code",
   "execution_count": 37,
   "id": "91c2a493-e17b-4f05-b3db-d4a9bed1afb7",
   "metadata": {},
   "outputs": [
    {
     "data": {
      "text/plain": [
       "{'key': 2321}"
      ]
     },
     "execution_count": 37,
     "metadata": {},
     "output_type": "execute_result"
    }
   ],
   "source": [
    "myEmptyDictionary"
   ]
  },
  {
   "cell_type": "code",
   "execution_count": null,
   "id": "bfa90f29-22ac-4d63-8a67-1a319f75d6f3",
   "metadata": {},
   "outputs": [],
   "source": []
  }
 ],
 "metadata": {
  "kernelspec": {
   "display_name": "Python [conda env:base] *",
   "language": "python",
   "name": "conda-base-py"
  },
  "language_info": {
   "codemirror_mode": {
    "name": "ipython",
    "version": 3
   },
   "file_extension": ".py",
   "mimetype": "text/x-python",
   "name": "python",
   "nbconvert_exporter": "python",
   "pygments_lexer": "ipython3",
   "version": "3.12.7"
  }
 },
 "nbformat": 4,
 "nbformat_minor": 5
}
