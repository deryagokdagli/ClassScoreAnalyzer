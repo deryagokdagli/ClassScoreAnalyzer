{
 "cells": [
  {
   "cell_type": "code",
   "execution_count": null,
   "id": "6ca46e5e-63ad-47ce-b1ab-bb5dfab84bf1",
   "metadata": {},
   "outputs": [
    {
     "name": "stdin",
     "output_type": "stream",
     "text": [
      "İlk sayıyı giriniz:  5\n",
      "İkinci sayıyı giriniz:  2\n",
      "İşleminizi seçiniz(+-*/):  *\n"
     ]
    },
    {
     "name": "stdout",
     "output_type": "stream",
     "text": [
      "5 * 2 = 10\n"
     ]
    },
    {
     "name": "stdin",
     "output_type": "stream",
     "text": [
      "İlk sayıyı giriniz:  3\n",
      "İkinci sayıyı giriniz:  4\n",
      "İşleminizi seçiniz(+-*/):  *\n"
     ]
    },
    {
     "name": "stdout",
     "output_type": "stream",
     "text": [
      "3 * 4 = 12\n"
     ]
    },
    {
     "name": "stdin",
     "output_type": "stream",
     "text": [
      "İlk sayıyı giriniz:  4\n",
      "İkinci sayıyı giriniz:  FVFD\n"
     ]
    },
    {
     "name": "stdout",
     "output_type": "stream",
     "text": [
      "Lütfen sayıları düzgün giriniz.\n"
     ]
    }
   ],
   "source": [
    "def hesapla(a,b,islem):\n",
    "    if islem not in \"+-*/\":\n",
    "        return \"Lütfen geçerli işlemlerden birini seçiniz\"\n",
    "    if islem == \"+\":\n",
    "        return (str(a) + \" + \" + str(b) + \" = \" +  str(a+b))\n",
    "    if islem == \"-\":\n",
    "        return (str(a) + \" - \" + str(b) + \" = \" +  str(a-b))\n",
    "    if islem == \"*\":\n",
    "        return (str(a) + \" * \" + str(b) + \" = \" +  str(a*b))\n",
    "    if islem == \"/\":\n",
    "        return (str(a) + \" / \" + str(b) + \" = \" +  str(a/b))\n",
    "\n",
    "while True:\n",
    "    try:\n",
    "        a = int(input(\"İlk sayıyı giriniz: \"))\n",
    "        b = int(input(\"İkinci sayıyı giriniz: \"))\n",
    "        islem = input(\"İşleminizi seçiniz(+-*/): \")\n",
    "        print(hesapla(a,b,islem))\n",
    "    except:\n",
    "        print(\"Lütfen sayıları düzgün giriniz.\")"
   ]
  },
  {
   "cell_type": "code",
   "execution_count": null,
   "id": "720a6e39-b977-46f6-a136-5802f8725cb7",
   "metadata": {},
   "outputs": [],
   "source": []
  }
 ],
 "metadata": {
  "kernelspec": {
   "display_name": "Python [conda env:base] *",
   "language": "python",
   "name": "conda-base-py"
  },
  "language_info": {
   "codemirror_mode": {
    "name": "ipython",
    "version": 3
   },
   "file_extension": ".py",
   "mimetype": "text/x-python",
   "name": "python",
   "nbconvert_exporter": "python",
   "pygments_lexer": "ipython3",
   "version": "3.12.7"
  }
 },
 "nbformat": 4,
 "nbformat_minor": 5
}
