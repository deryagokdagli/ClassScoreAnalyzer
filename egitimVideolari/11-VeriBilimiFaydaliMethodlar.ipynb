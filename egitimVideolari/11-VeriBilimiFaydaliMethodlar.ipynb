{
 "cells": [
  {
   "cell_type": "code",
   "execution_count": 1,
   "id": "870d24e7-ac70-4889-8c4e-415827e36911",
   "metadata": {},
   "outputs": [],
   "source": [
    "myList = [0,1,2,3,4,5,6]"
   ]
  },
  {
   "cell_type": "code",
   "execution_count": 2,
   "id": "83a8d5b2-56c1-4534-8f56-5a2900100eaa",
   "metadata": {},
   "outputs": [
    {
     "name": "stdout",
     "output_type": "stream",
     "text": [
      "0\n",
      "1\n",
      "2\n",
      "3\n",
      "4\n",
      "5\n",
      "6\n"
     ]
    }
   ],
   "source": [
    "for number in myList:\n",
    "    print(number)"
   ]
  },
  {
   "cell_type": "markdown",
   "id": "1e437c37-1825-476f-ad09-027a7a3abf68",
   "metadata": {},
   "source": [
    "## Range"
   ]
  },
  {
   "cell_type": "code",
   "execution_count": 3,
   "id": "aa97151b-d524-49c5-a539-796a21ecc1c8",
   "metadata": {},
   "outputs": [
    {
     "data": {
      "text/plain": [
       "range(0, 15)"
      ]
     },
     "execution_count": 3,
     "metadata": {},
     "output_type": "execute_result"
    }
   ],
   "source": [
    "range(15)"
   ]
  },
  {
   "cell_type": "code",
   "execution_count": 4,
   "id": "61ef938f-e099-4df9-b928-a97fa2f37e16",
   "metadata": {},
   "outputs": [
    {
     "data": {
      "text/plain": [
       "[0, 1, 2, 3, 4, 5, 6, 7, 8, 9, 10, 11, 12, 13, 14]"
      ]
     },
     "execution_count": 4,
     "metadata": {},
     "output_type": "execute_result"
    }
   ],
   "source": [
    "list(range(15))"
   ]
  },
  {
   "cell_type": "code",
   "execution_count": 5,
   "id": "5978ad69-ee89-47b4-b4f3-eb829446b61f",
   "metadata": {},
   "outputs": [
    {
     "name": "stdout",
     "output_type": "stream",
     "text": [
      "0\n",
      "5\n",
      "10\n",
      "15\n",
      "20\n",
      "25\n",
      "30\n",
      "35\n",
      "40\n",
      "45\n",
      "50\n",
      "55\n",
      "60\n",
      "65\n",
      "70\n"
     ]
    }
   ],
   "source": [
    "for number in list(range(15)):\n",
    "    print(number * 5)"
   ]
  },
  {
   "cell_type": "code",
   "execution_count": 7,
   "id": "ee8053d0-a79c-469f-8385-c9fff6c08807",
   "metadata": {},
   "outputs": [
    {
     "data": {
      "text/plain": [
       "[5, 9, 13, 17, 21]"
      ]
     },
     "execution_count": 7,
     "metadata": {},
     "output_type": "execute_result"
    }
   ],
   "source": [
    "list(range(5,22,4))"
   ]
  },
  {
   "cell_type": "markdown",
   "id": "96f4022b-3de7-449c-a83a-718188400d91",
   "metadata": {},
   "source": [
    "## Enumerate"
   ]
  },
  {
   "cell_type": "code",
   "execution_count": 11,
   "id": "044ba6f6-c924-4806-a726-689bde9cbbd9",
   "metadata": {},
   "outputs": [
    {
     "name": "stdout",
     "output_type": "stream",
     "text": [
      "güncel numara: 5 güncel index: 0\n",
      "güncel numara: 6 güncel index: 1\n",
      "güncel numara: 7 güncel index: 2\n",
      "güncel numara: 8 güncel index: 3\n",
      "güncel numara: 9 güncel index: 4\n",
      "güncel numara: 10 güncel index: 5\n",
      "güncel numara: 11 güncel index: 6\n",
      "güncel numara: 12 güncel index: 7\n",
      "güncel numara: 13 güncel index: 8\n",
      "güncel numara: 14 güncel index: 9\n"
     ]
    }
   ],
   "source": [
    "index = 0\n",
    "for number in list(range(5,15)):\n",
    "    print(f\"güncel numara: {number} güncel index: {index}\")\n",
    "    index = index + 1"
   ]
  },
  {
   "cell_type": "code",
   "execution_count": 13,
   "id": "6362d2c3-ea3f-4913-9ebe-466d82c12cd3",
   "metadata": {},
   "outputs": [
    {
     "name": "stdout",
     "output_type": "stream",
     "text": [
      "(0, 5)\n",
      "(1, 6)\n",
      "(2, 7)\n",
      "(3, 8)\n",
      "(4, 9)\n",
      "(5, 10)\n",
      "(6, 11)\n",
      "(7, 12)\n",
      "(8, 13)\n",
      "(9, 14)\n"
     ]
    }
   ],
   "source": [
    "for element in enumerate(list(range(5,15))):\n",
    "    print(element)"
   ]
  },
  {
   "cell_type": "code",
   "execution_count": 15,
   "id": "b0926a0e-a43a-4df0-a03c-62968175f07b",
   "metadata": {},
   "outputs": [
    {
     "name": "stdout",
     "output_type": "stream",
     "text": [
      "5\n",
      "6\n",
      "7\n",
      "8\n",
      "9\n",
      "10\n",
      "11\n",
      "12\n",
      "13\n",
      "14\n"
     ]
    }
   ],
   "source": [
    "for (index,number) in enumerate(list(range(5,15))):\n",
    "    print(number)"
   ]
  },
  {
   "cell_type": "markdown",
   "id": "ff9253ee-60b5-4cbb-8a02-8a43dd41f0d0",
   "metadata": {},
   "source": [
    "## Random"
   ]
  },
  {
   "cell_type": "code",
   "execution_count": 17,
   "id": "457b681a-aea6-49ab-ab73-b3f0bc7c26bf",
   "metadata": {},
   "outputs": [],
   "source": [
    "from random import randint #random kütüphanesinin içinden randinti getir gibi bir anlamı var."
   ]
  },
  {
   "cell_type": "code",
   "execution_count": 18,
   "id": "f5cd808b-309b-4303-9229-16d5189ddc2b",
   "metadata": {},
   "outputs": [
    {
     "data": {
      "text/plain": [
       "0"
      ]
     },
     "execution_count": 18,
     "metadata": {},
     "output_type": "execute_result"
    }
   ],
   "source": [
    "randint(0,100)"
   ]
  },
  {
   "cell_type": "code",
   "execution_count": 19,
   "id": "b4a95a8f-5616-4222-809c-8ee94a510b42",
   "metadata": {},
   "outputs": [
    {
     "data": {
      "text/plain": [
       "100"
      ]
     },
     "execution_count": 19,
     "metadata": {},
     "output_type": "execute_result"
    }
   ],
   "source": [
    "randint(0,100)"
   ]
  },
  {
   "cell_type": "code",
   "execution_count": 20,
   "id": "5baa5ee4-740d-4807-9dfe-e9346fe6ecd6",
   "metadata": {},
   "outputs": [
    {
     "data": {
      "text/plain": [
       "70"
      ]
     },
     "execution_count": 20,
     "metadata": {},
     "output_type": "execute_result"
    }
   ],
   "source": [
    "randint(0,100)"
   ]
  },
  {
   "cell_type": "code",
   "execution_count": 21,
   "id": "642bda41-9c91-4831-9d85-0b77bf854b7a",
   "metadata": {},
   "outputs": [
    {
     "data": {
      "text/plain": [
       "20"
      ]
     },
     "execution_count": 21,
     "metadata": {},
     "output_type": "execute_result"
    }
   ],
   "source": [
    "randint(0,100)"
   ]
  },
  {
   "cell_type": "code",
   "execution_count": 22,
   "id": "86d0cc1e-9063-40b1-a269-021f9ac2bdec",
   "metadata": {},
   "outputs": [
    {
     "data": {
      "text/plain": [
       "60"
      ]
     },
     "execution_count": 22,
     "metadata": {},
     "output_type": "execute_result"
    }
   ],
   "source": [
    "randint(0,100)"
   ]
  },
  {
   "cell_type": "code",
   "execution_count": 23,
   "id": "2f77b83a-7acb-4a6d-b29c-88ee172188b8",
   "metadata": {},
   "outputs": [
    {
     "data": {
      "text/plain": [
       "56"
      ]
     },
     "execution_count": 23,
     "metadata": {},
     "output_type": "execute_result"
    }
   ],
   "source": [
    "randint(0,100)"
   ]
  },
  {
   "cell_type": "code",
   "execution_count": 24,
   "id": "52e2b274-75f3-4e52-a4be-61be72b5f498",
   "metadata": {},
   "outputs": [],
   "source": [
    "newList = list(range(0,10))"
   ]
  },
  {
   "cell_type": "code",
   "execution_count": 26,
   "id": "82970b02-7799-4830-83d0-f0e2981c3239",
   "metadata": {},
   "outputs": [
    {
     "data": {
      "text/plain": [
       "[0, 1, 2, 3, 4, 5, 6, 7, 8, 9]"
      ]
     },
     "execution_count": 26,
     "metadata": {},
     "output_type": "execute_result"
    }
   ],
   "source": [
    "newList"
   ]
  },
  {
   "cell_type": "code",
   "execution_count": 28,
   "id": "7605ec7a-e7e4-494a-9fc4-bfcb1b498594",
   "metadata": {},
   "outputs": [
    {
     "data": {
      "text/plain": [
       "3"
      ]
     },
     "execution_count": 28,
     "metadata": {},
     "output_type": "execute_result"
    }
   ],
   "source": [
    "newList[randint(0,9)]"
   ]
  },
  {
   "cell_type": "code",
   "execution_count": 35,
   "id": "849c05eb-34d4-4895-9a20-ba4bbf4fa870",
   "metadata": {},
   "outputs": [],
   "source": [
    "from random import shuffle #shuffle: karıştırmak"
   ]
  },
  {
   "cell_type": "code",
   "execution_count": 36,
   "id": "8f217e64-40a4-4cda-973a-31c0c63ae164",
   "metadata": {},
   "outputs": [],
   "source": [
    "shuffle(newList)"
   ]
  },
  {
   "cell_type": "code",
   "execution_count": 37,
   "id": "b4bf0d29-0922-4b4f-b8d3-5841c094a134",
   "metadata": {},
   "outputs": [
    {
     "data": {
      "text/plain": [
       "[4, 2, 0, 1, 8, 6, 3, 5, 9, 7]"
      ]
     },
     "execution_count": 37,
     "metadata": {},
     "output_type": "execute_result"
    }
   ],
   "source": [
    "newList"
   ]
  },
  {
   "cell_type": "markdown",
   "id": "49615480-4ddc-4e38-ab39-d11849662923",
   "metadata": {},
   "source": [
    "## Zip"
   ]
  },
  {
   "cell_type": "code",
   "execution_count": 40,
   "id": "05e42e54-40ba-4a33-952d-7214170a03ab",
   "metadata": {},
   "outputs": [],
   "source": [
    "foodList = [\"muz\",\"ananas\",\"elma\"]\n",
    "calorieList = [100,200,300]\n",
    "dayList = [\"pazartesi\",\"salı\",\"çarşamba\"]"
   ]
  },
  {
   "cell_type": "code",
   "execution_count": 43,
   "id": "6c9f0975-c835-432f-a26a-7d72fb2115ec",
   "metadata": {},
   "outputs": [],
   "source": [
    "zippedList = list(zip(foodList,calorieList,dayList))"
   ]
  },
  {
   "cell_type": "code",
   "execution_count": 46,
   "id": "e6302ad6-48cf-499d-960e-b361519feb96",
   "metadata": {},
   "outputs": [
    {
     "name": "stdout",
     "output_type": "stream",
     "text": [
      "('muz', 100, 'pazartesi')\n",
      "('ananas', 200, 'salı')\n",
      "('elma', 300, 'çarşamba')\n"
     ]
    }
   ],
   "source": [
    "for element in zippedList:\n",
    "    print(element)"
   ]
  },
  {
   "cell_type": "code",
   "execution_count": 45,
   "id": "151d4830-ced8-4845-89c3-cd89bd053a90",
   "metadata": {},
   "outputs": [
    {
     "data": {
      "text/plain": [
       "[('muz', 100, 'pazartesi'), ('ananas', 200, 'salı'), ('elma', 300, 'çarşamba')]"
      ]
     },
     "execution_count": 45,
     "metadata": {},
     "output_type": "execute_result"
    }
   ],
   "source": [
    "zippedList"
   ]
  },
  {
   "cell_type": "markdown",
   "id": "32d4997a-5c06-48af-8571-39265764835a",
   "metadata": {},
   "source": [
    "## Listeler İleri Seviye"
   ]
  },
  {
   "cell_type": "code",
   "execution_count": 48,
   "id": "9a607132-4acd-418c-938f-64aae12562ca",
   "metadata": {},
   "outputs": [],
   "source": [
    "exampleList = []\n",
    "myString = \"Derya Gökdağlı\"\n",
    "\n",
    "for letter in myString:\n",
    "    exampleList.append(letter)"
   ]
  },
  {
   "cell_type": "code",
   "execution_count": 49,
   "id": "e068fa6d-3280-4305-9a3f-eb9394d199bf",
   "metadata": {},
   "outputs": [
    {
     "data": {
      "text/plain": [
       "['D', 'e', 'r', 'y', 'a', ' ', 'G', 'ö', 'k', 'd', 'a', 'ğ', 'l', 'ı']"
      ]
     },
     "execution_count": 49,
     "metadata": {},
     "output_type": "execute_result"
    }
   ],
   "source": [
    "exampleList"
   ]
  },
  {
   "cell_type": "code",
   "execution_count": 50,
   "id": "8a3c3a9a-9ff9-4317-ba62-1c6966a06f6b",
   "metadata": {},
   "outputs": [],
   "source": [
    "newString = \"Derya Gökdağlı\""
   ]
  },
  {
   "cell_type": "code",
   "execution_count": 51,
   "id": "bf2dd345-58a4-4a4a-974a-212a6c5a9762",
   "metadata": {},
   "outputs": [],
   "source": [
    "newExampleList = [element for element in newString]"
   ]
  },
  {
   "cell_type": "code",
   "execution_count": 52,
   "id": "882f9983-e515-4212-a5ed-0fdec366cb2e",
   "metadata": {},
   "outputs": [
    {
     "data": {
      "text/plain": [
       "['D', 'e', 'r', 'y', 'a', ' ', 'G', 'ö', 'k', 'd', 'a', 'ğ', 'l', 'ı']"
      ]
     },
     "execution_count": 52,
     "metadata": {},
     "output_type": "execute_result"
    }
   ],
   "source": [
    "newExampleList"
   ]
  },
  {
   "cell_type": "code",
   "execution_count": 55,
   "id": "0c9e6076-575a-4cc1-8888-beaa6e946ed0",
   "metadata": {},
   "outputs": [],
   "source": [
    "secondExampleList = [number ** 5 for number in list(range(0,10))]"
   ]
  },
  {
   "cell_type": "code",
   "execution_count": 56,
   "id": "a4ddabf4-fab7-4b4f-bea2-5be7352287fc",
   "metadata": {},
   "outputs": [
    {
     "data": {
      "text/plain": [
       "[0, 1, 32, 243, 1024, 3125, 7776, 16807, 32768, 59049]"
      ]
     },
     "execution_count": 56,
     "metadata": {},
     "output_type": "execute_result"
    }
   ],
   "source": [
    "secondExampleList"
   ]
  },
  {
   "cell_type": "code",
   "execution_count": null,
   "id": "29f71a09-0eb0-45b5-9beb-4c59f3322c78",
   "metadata": {},
   "outputs": [],
   "source": []
  }
 ],
 "metadata": {
  "kernelspec": {
   "display_name": "Python [conda env:base] *",
   "language": "python",
   "name": "conda-base-py"
  },
  "language_info": {
   "codemirror_mode": {
    "name": "ipython",
    "version": 3
   },
   "file_extension": ".py",
   "mimetype": "text/x-python",
   "name": "python",
   "nbconvert_exporter": "python",
   "pygments_lexer": "ipython3",
   "version": "3.12.7"
  }
 },
 "nbformat": 4,
 "nbformat_minor": 5
}
