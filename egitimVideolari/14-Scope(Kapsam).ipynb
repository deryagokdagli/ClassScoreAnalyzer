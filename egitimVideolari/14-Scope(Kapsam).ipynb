{
 "cells": [
  {
   "cell_type": "code",
   "execution_count": 1,
   "id": "f0cf723b-5559-4722-bdd4-11e6feb33b1f",
   "metadata": {},
   "outputs": [],
   "source": [
    "numara = 20\n",
    "\n",
    "def carpma(rakam):\n",
    "    numara = 10\n",
    "    return numara * rakam"
   ]
  },
  {
   "cell_type": "code",
   "execution_count": 2,
   "id": "175ecec8-1788-4479-b437-165ac6a3bd5d",
   "metadata": {},
   "outputs": [
    {
     "data": {
      "text/plain": [
       "50"
      ]
     },
     "execution_count": 2,
     "metadata": {},
     "output_type": "execute_result"
    }
   ],
   "source": [
    "carpma(5)"
   ]
  },
  {
   "cell_type": "code",
   "execution_count": 3,
   "id": "592bd9d9-5383-4f04-8f7a-b0b7821e8329",
   "metadata": {},
   "outputs": [
    {
     "name": "stdout",
     "output_type": "stream",
     "text": [
      "20\n"
     ]
    }
   ],
   "source": [
    "print(numara)"
   ]
  },
  {
   "cell_type": "markdown",
   "id": "f59852ca-c52a-4a23-8c19-c614ad5308b8",
   "metadata": {},
   "source": [
    "## Local, Enclosing, Global, Built-In"
   ]
  },
  {
   "cell_type": "code",
   "execution_count": 7,
   "id": "0a865986-2519-4d69-907a-2eefc42fbe06",
   "metadata": {},
   "outputs": [],
   "source": [
    "benimAdim = \"Derya\"\n",
    "#Global degisken\n",
    "\n",
    "def benimFonksiyonum():\n",
    "    benimAdim = \"Mahmut\"\n",
    "    #Enclosing\n",
    "    def icFonksiyon():\n",
    "        benimAdim = \"Ayşe\"\n",
    "        #Local\n",
    "        print(benimAdim)\n",
    "    icFonksiyon()"
   ]
  },
  {
   "cell_type": "code",
   "execution_count": 8,
   "id": "243b4f5d-944e-4ac9-8bfc-ee6e60c2479f",
   "metadata": {},
   "outputs": [
    {
     "name": "stdout",
     "output_type": "stream",
     "text": [
      "Ayşe\n"
     ]
    }
   ],
   "source": [
    "benimFonksiyonum()"
   ]
  },
  {
   "cell_type": "code",
   "execution_count": 11,
   "id": "ae677a7d-0e03-4534-93eb-fcb1d39e5017",
   "metadata": {},
   "outputs": [
    {
     "name": "stdout",
     "output_type": "stream",
     "text": [
      "Derya\n"
     ]
    }
   ],
   "source": [
    "print(benimAdim)"
   ]
  },
  {
   "cell_type": "code",
   "execution_count": 12,
   "id": "043c6eb2-a8f6-4b24-88fa-4e47b64909bb",
   "metadata": {},
   "outputs": [],
   "source": [
    "y = 10\n",
    "\n",
    "def yeniFonksiyon(y):\n",
    "    print(y)\n",
    "    y = 5\n",
    "    print(y)\n",
    "    return y"
   ]
  },
  {
   "cell_type": "code",
   "execution_count": 13,
   "id": "5c0e5d6b-1740-4b6b-a7db-55a20d11dcb0",
   "metadata": {},
   "outputs": [
    {
     "name": "stdout",
     "output_type": "stream",
     "text": [
      "4\n",
      "5\n"
     ]
    },
    {
     "data": {
      "text/plain": [
       "5"
      ]
     },
     "execution_count": 13,
     "metadata": {},
     "output_type": "execute_result"
    }
   ],
   "source": [
    "yeniFonksiyon(4)"
   ]
  },
  {
   "cell_type": "code",
   "execution_count": 14,
   "id": "6e59e323-1d4b-4f29-bdc0-58d5abc02e9f",
   "metadata": {},
   "outputs": [
    {
     "data": {
      "text/plain": [
       "10"
      ]
     },
     "execution_count": 14,
     "metadata": {},
     "output_type": "execute_result"
    }
   ],
   "source": [
    "y"
   ]
  },
  {
   "cell_type": "code",
   "execution_count": 15,
   "id": "0d98427d-c868-4778-aff4-c23ee940ec24",
   "metadata": {},
   "outputs": [
    {
     "name": "stdout",
     "output_type": "stream",
     "text": [
      "3\n",
      "5\n"
     ]
    }
   ],
   "source": [
    "y = yeniFonksiyon(3)"
   ]
  },
  {
   "cell_type": "code",
   "execution_count": 17,
   "id": "c71e4ba8-f927-42b5-8726-4ac8f0dd1117",
   "metadata": {},
   "outputs": [
    {
     "data": {
      "text/plain": [
       "5"
      ]
     },
     "execution_count": 17,
     "metadata": {},
     "output_type": "execute_result"
    }
   ],
   "source": [
    "y"
   ]
  },
  {
   "cell_type": "code",
   "execution_count": 18,
   "id": "82e4ae65-5add-4e12-b888-ebb229156d39",
   "metadata": {},
   "outputs": [],
   "source": [
    "y = 10\n",
    "\n",
    "def ornekFonksiyon():\n",
    "    global y\n",
    "    y = 5\n",
    "    print(y)"
   ]
  },
  {
   "cell_type": "code",
   "execution_count": 19,
   "id": "31771c33-c332-4b5c-b8e5-821f8d0d1b77",
   "metadata": {},
   "outputs": [
    {
     "name": "stdout",
     "output_type": "stream",
     "text": [
      "5\n"
     ]
    }
   ],
   "source": [
    "ornekFonksiyon()"
   ]
  },
  {
   "cell_type": "code",
   "execution_count": 20,
   "id": "a749aa34-89d1-48c2-9a8d-379d27b3d4fe",
   "metadata": {},
   "outputs": [
    {
     "data": {
      "text/plain": [
       "5"
      ]
     },
     "execution_count": 20,
     "metadata": {},
     "output_type": "execute_result"
    }
   ],
   "source": [
    "y"
   ]
  },
  {
   "cell_type": "code",
   "execution_count": null,
   "id": "70921624-8e23-427f-8bb4-faeafac9f519",
   "metadata": {},
   "outputs": [],
   "source": []
  }
 ],
 "metadata": {
  "kernelspec": {
   "display_name": "Python [conda env:base] *",
   "language": "python",
   "name": "conda-base-py"
  },
  "language_info": {
   "codemirror_mode": {
    "name": "ipython",
    "version": 3
   },
   "file_extension": ".py",
   "mimetype": "text/x-python",
   "name": "python",
   "nbconvert_exporter": "python",
   "pygments_lexer": "ipython3",
   "version": "3.12.7"
  }
 },
 "nbformat": 4,
 "nbformat_minor": 5
}
