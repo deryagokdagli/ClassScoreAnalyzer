{
 "cells": [
  {
   "cell_type": "code",
   "execution_count": 120,
   "id": "8b301172-7fff-4321-b0e6-1eafd5dcc062",
   "metadata": {},
   "outputs": [],
   "source": [
    "myString = \"Derya Gökdağlı\""
   ]
  },
  {
   "cell_type": "code",
   "execution_count": 121,
   "id": "aa0ba7e6-14f8-4d98-9832-52166c0b5b07",
   "metadata": {},
   "outputs": [
    {
     "data": {
      "text/plain": [
       "'e'"
      ]
     },
     "execution_count": 121,
     "metadata": {},
     "output_type": "execute_result"
    }
   ],
   "source": [
    "myString[1]"
   ]
  },
  {
   "cell_type": "code",
   "execution_count": 122,
   "id": "45b8b32b-56ff-4868-9a7b-75d43ebf06ed",
   "metadata": {},
   "outputs": [],
   "source": [
    "#imnutability & mutable (değişmezlik veya değişebiliR)"
   ]
  },
  {
   "cell_type": "code",
   "execution_count": 123,
   "id": "08fbe881-5379-4d9c-bae6-c542ca1c5984",
   "metadata": {},
   "outputs": [],
   "source": [
    "myList = [10,20,30,40]"
   ]
  },
  {
   "cell_type": "code",
   "execution_count": 124,
   "id": "01c2fbec-a15c-4265-a2d2-6d95df58f438",
   "metadata": {},
   "outputs": [
    {
     "data": {
      "text/plain": [
       "list"
      ]
     },
     "execution_count": 124,
     "metadata": {},
     "output_type": "execute_result"
    }
   ],
   "source": [
    "type(myList)"
   ]
  },
  {
   "cell_type": "code",
   "execution_count": 125,
   "id": "4d1c027e-9d99-4269-bffb-4c57c7ea46d9",
   "metadata": {},
   "outputs": [],
   "source": [
    "myNumber = 10\n",
    "myOtherNumber = 20"
   ]
  },
  {
   "cell_type": "code",
   "execution_count": 126,
   "id": "e4c9c41c-782b-412e-b7e2-7745f547c657",
   "metadata": {},
   "outputs": [],
   "source": [
    "myNumberList = [myNumber,myOtherNumber]"
   ]
  },
  {
   "cell_type": "code",
   "execution_count": 127,
   "id": "d6b68f82-07b7-4566-8b65-35c35ab5d12a",
   "metadata": {},
   "outputs": [
    {
     "data": {
      "text/plain": [
       "40"
      ]
     },
     "execution_count": 127,
     "metadata": {},
     "output_type": "execute_result"
    }
   ],
   "source": [
    "myList[3]"
   ]
  },
  {
   "cell_type": "code",
   "execution_count": 128,
   "id": "5ec19239-b708-4fbc-8b9c-46bd8a01c83b",
   "metadata": {},
   "outputs": [
    {
     "data": {
      "text/plain": [
       "10"
      ]
     },
     "execution_count": 128,
     "metadata": {},
     "output_type": "execute_result"
    }
   ],
   "source": [
    "myNumberList[0]"
   ]
  },
  {
   "cell_type": "code",
   "execution_count": 129,
   "id": "a099f84e-3252-4c77-a511-917b835bf718",
   "metadata": {},
   "outputs": [
    {
     "data": {
      "text/plain": [
       "[10, 20, 30, 40]"
      ]
     },
     "execution_count": 129,
     "metadata": {},
     "output_type": "execute_result"
    }
   ],
   "source": [
    "myList"
   ]
  },
  {
   "cell_type": "code",
   "execution_count": 130,
   "id": "ead1de9e-81c5-4eeb-8e14-a3b95abf23b0",
   "metadata": {},
   "outputs": [],
   "source": [
    "myList[0] = 100"
   ]
  },
  {
   "cell_type": "code",
   "execution_count": 131,
   "id": "4b011562-d0be-4c4b-b58f-466a0f88616e",
   "metadata": {},
   "outputs": [
    {
     "data": {
      "text/plain": [
       "[100, 20, 30, 40]"
      ]
     },
     "execution_count": 131,
     "metadata": {},
     "output_type": "execute_result"
    }
   ],
   "source": [
    "myList"
   ]
  },
  {
   "cell_type": "code",
   "execution_count": 132,
   "id": "61d7c3d3-62ae-4fc4-8fa0-37001ab619d8",
   "metadata": {},
   "outputs": [],
   "source": [
    "myList.append(50)"
   ]
  },
  {
   "cell_type": "code",
   "execution_count": 133,
   "id": "f8fde109-4a85-44c7-9c99-320dd8da7e4a",
   "metadata": {},
   "outputs": [
    {
     "data": {
      "text/plain": [
       "[100, 20, 30, 40, 50]"
      ]
     },
     "execution_count": 133,
     "metadata": {},
     "output_type": "execute_result"
    }
   ],
   "source": [
    "myList"
   ]
  },
  {
   "cell_type": "code",
   "execution_count": 134,
   "id": "e535d6e0-80fc-4486-ba53-709444c9ff4b",
   "metadata": {},
   "outputs": [
    {
     "data": {
      "text/plain": [
       "50"
      ]
     },
     "execution_count": 134,
     "metadata": {},
     "output_type": "execute_result"
    }
   ],
   "source": [
    "myList.pop()"
   ]
  },
  {
   "cell_type": "code",
   "execution_count": 135,
   "id": "d0fd1a83-3d14-40cc-8d52-c4048d4cd91c",
   "metadata": {},
   "outputs": [
    {
     "data": {
      "text/plain": [
       "[100, 20, 30, 40]"
      ]
     },
     "execution_count": 135,
     "metadata": {},
     "output_type": "execute_result"
    }
   ],
   "source": [
    "myList"
   ]
  },
  {
   "cell_type": "code",
   "execution_count": 136,
   "id": "2e6219c0-0a91-4619-b126-70632fe08561",
   "metadata": {},
   "outputs": [],
   "source": [
    "myList.remove(40)"
   ]
  },
  {
   "cell_type": "code",
   "execution_count": 137,
   "id": "d8b1655d-17f7-40c1-8686-b96573ebb3af",
   "metadata": {},
   "outputs": [
    {
     "data": {
      "text/plain": [
       "[100, 20, 30]"
      ]
     },
     "execution_count": 137,
     "metadata": {},
     "output_type": "execute_result"
    }
   ],
   "source": [
    "myList"
   ]
  },
  {
   "cell_type": "code",
   "execution_count": 138,
   "id": "2a03ba03-2fc5-4265-aba2-0e94e9eefe3f",
   "metadata": {},
   "outputs": [
    {
     "data": {
      "text/plain": [
       "1"
      ]
     },
     "execution_count": 138,
     "metadata": {},
     "output_type": "execute_result"
    }
   ],
   "source": [
    "myList.count(20)"
   ]
  },
  {
   "cell_type": "code",
   "execution_count": 139,
   "id": "dfe30ada-d683-4aef-9291-0e2271a7563c",
   "metadata": {},
   "outputs": [],
   "source": [
    "myList.append(20)"
   ]
  },
  {
   "cell_type": "code",
   "execution_count": 140,
   "id": "486bd527-6f69-44fb-800b-2eaaeeff275a",
   "metadata": {},
   "outputs": [
    {
     "data": {
      "text/plain": [
       "[100, 20, 30, 20]"
      ]
     },
     "execution_count": 140,
     "metadata": {},
     "output_type": "execute_result"
    }
   ],
   "source": [
    "myList"
   ]
  },
  {
   "cell_type": "code",
   "execution_count": 141,
   "id": "3facb550-540e-4b3d-9464-8732e870988a",
   "metadata": {},
   "outputs": [
    {
     "data": {
      "text/plain": [
       "2"
      ]
     },
     "execution_count": 141,
     "metadata": {},
     "output_type": "execute_result"
    }
   ],
   "source": [
    "myList.count(20)"
   ]
  },
  {
   "cell_type": "code",
   "execution_count": 142,
   "id": "d663baf5-31b9-48aa-bd4d-e2008814017f",
   "metadata": {},
   "outputs": [],
   "source": [
    "myStringList = [\"Derya\",\"Nigar\",\"Zehra\"]"
   ]
  },
  {
   "cell_type": "code",
   "execution_count": 143,
   "id": "f31656bd-35cc-4e47-9dbe-bc4df7053698",
   "metadata": {},
   "outputs": [],
   "source": [
    "myOtherList = [\"Tolga\",\"Serkan\",\"Adolf\"]"
   ]
  },
  {
   "cell_type": "code",
   "execution_count": 144,
   "id": "e99d080a-2a3a-44e6-b87f-0a69b2f4b877",
   "metadata": {},
   "outputs": [
    {
     "data": {
      "text/plain": [
       "'Adolf'"
      ]
     },
     "execution_count": 144,
     "metadata": {},
     "output_type": "execute_result"
    }
   ],
   "source": [
    "myOtherList[2]"
   ]
  },
  {
   "cell_type": "code",
   "execution_count": 145,
   "id": "9fd3109a-8a70-4477-b330-1985376e1274",
   "metadata": {},
   "outputs": [],
   "source": [
    "myCollectionList = myStringList + myOtherList"
   ]
  },
  {
   "cell_type": "code",
   "execution_count": 146,
   "id": "2734511a-1634-4dad-89dd-2c0d33a187b9",
   "metadata": {},
   "outputs": [
    {
     "data": {
      "text/plain": [
       "['Derya', 'Nigar', 'Zehra', 'Tolga', 'Serkan', 'Adolf']"
      ]
     },
     "execution_count": 146,
     "metadata": {},
     "output_type": "execute_result"
    }
   ],
   "source": [
    "myCollectionList"
   ]
  },
  {
   "cell_type": "code",
   "execution_count": 147,
   "id": "1c30813a-cc09-46b7-acff-95358250a1cd",
   "metadata": {},
   "outputs": [
    {
     "data": {
      "text/plain": [
       "['Derya',\n",
       " 'Nigar',\n",
       " 'Zehra',\n",
       " 'Derya',\n",
       " 'Nigar',\n",
       " 'Zehra',\n",
       " 'Derya',\n",
       " 'Nigar',\n",
       " 'Zehra',\n",
       " 'Derya',\n",
       " 'Nigar',\n",
       " 'Zehra',\n",
       " 'Derya',\n",
       " 'Nigar',\n",
       " 'Zehra']"
      ]
     },
     "execution_count": 147,
     "metadata": {},
     "output_type": "execute_result"
    }
   ],
   "source": [
    "myStringList * 5"
   ]
  },
  {
   "cell_type": "code",
   "execution_count": 148,
   "id": "f7b681f0-3797-48ed-959d-f5f228715566",
   "metadata": {},
   "outputs": [
    {
     "data": {
      "text/plain": [
       "['Derya', 'Nigar', 'Zehra', 'Tolga', 'Serkan', 'Adolf']"
      ]
     },
     "execution_count": 148,
     "metadata": {},
     "output_type": "execute_result"
    }
   ],
   "source": [
    "myCollectionList"
   ]
  },
  {
   "cell_type": "code",
   "execution_count": 149,
   "id": "700002d1-aaff-492e-8132-d19da7e6cb73",
   "metadata": {},
   "outputs": [],
   "source": [
    "myCollectionList.reverse()"
   ]
  },
  {
   "cell_type": "code",
   "execution_count": 150,
   "id": "0b5e6628-2789-44ca-9658-a20ad6460be8",
   "metadata": {},
   "outputs": [
    {
     "data": {
      "text/plain": [
       "['Adolf', 'Serkan', 'Tolga', 'Zehra', 'Nigar', 'Derya']"
      ]
     },
     "execution_count": 150,
     "metadata": {},
     "output_type": "execute_result"
    }
   ],
   "source": [
    "myCollectionList"
   ]
  },
  {
   "cell_type": "code",
   "execution_count": 151,
   "id": "d678c8a2-12d4-40f7-a081-7af110a5f928",
   "metadata": {},
   "outputs": [],
   "source": [
    "mixList = [1,2,3.5,\"derya\",9]"
   ]
  },
  {
   "cell_type": "code",
   "execution_count": 152,
   "id": "c9f59b05-a581-4a92-8403-6ac1d20e3b56",
   "metadata": {},
   "outputs": [
    {
     "data": {
      "text/plain": [
       "list"
      ]
     },
     "execution_count": 152,
     "metadata": {},
     "output_type": "execute_result"
    }
   ],
   "source": [
    "type(mixList)"
   ]
  },
  {
   "cell_type": "code",
   "execution_count": 153,
   "id": "65e07841-85d6-4bbe-b02c-a47d6956486e",
   "metadata": {},
   "outputs": [
    {
     "data": {
      "text/plain": [
       "'derya'"
      ]
     },
     "execution_count": 153,
     "metadata": {},
     "output_type": "execute_result"
    }
   ],
   "source": [
    "myResult = mixList[3]\n",
    "mixList[3]"
   ]
  },
  {
   "cell_type": "code",
   "execution_count": 154,
   "id": "70fbb571-6731-4440-83a8-5c3aca71b142",
   "metadata": {},
   "outputs": [
    {
     "data": {
      "text/plain": [
       "str"
      ]
     },
     "execution_count": 154,
     "metadata": {},
     "output_type": "execute_result"
    }
   ],
   "source": [
    "type(myResult)"
   ]
  },
  {
   "cell_type": "code",
   "execution_count": 155,
   "id": "e1853b70-0bda-4fa5-b947-51ad08fc9734",
   "metadata": {},
   "outputs": [],
   "source": [
    "nestedList = [1,5,\"derya\",4,[6,\"z\"]]"
   ]
  },
  {
   "cell_type": "code",
   "execution_count": 156,
   "id": "4aa5ae4c-38a3-4af7-8b3e-2aa19aecd3e6",
   "metadata": {},
   "outputs": [
    {
     "data": {
      "text/plain": [
       "[6, 'z']"
      ]
     },
     "execution_count": 156,
     "metadata": {},
     "output_type": "execute_result"
    }
   ],
   "source": [
    "nestedList[4]"
   ]
  },
  {
   "cell_type": "code",
   "execution_count": 157,
   "id": "7ac5c390-5343-4f6c-9c54-d74e137a6945",
   "metadata": {},
   "outputs": [
    {
     "data": {
      "text/plain": [
       "list"
      ]
     },
     "execution_count": 157,
     "metadata": {},
     "output_type": "execute_result"
    }
   ],
   "source": [
    "type(nestedList[4])"
   ]
  },
  {
   "cell_type": "code",
   "execution_count": 158,
   "id": "5d0a3ab9-3ca8-4eb0-ac71-1702d14f5f3e",
   "metadata": {},
   "outputs": [],
   "source": [
    "zVariable = nestedList[4][1]"
   ]
  },
  {
   "cell_type": "code",
   "execution_count": 159,
   "id": "783f1181-a48e-45bf-a68f-780cd4423991",
   "metadata": {},
   "outputs": [
    {
     "data": {
      "text/plain": [
       "'z'"
      ]
     },
     "execution_count": 159,
     "metadata": {},
     "output_type": "execute_result"
    }
   ],
   "source": [
    "zVariable"
   ]
  },
  {
   "cell_type": "code",
   "execution_count": 160,
   "id": "fa251487-3e7c-4a7b-919f-cf3da5e39b70",
   "metadata": {},
   "outputs": [],
   "source": [
    "complexList = [[1,2,3,[\"a\",\"b\"],50],40,20,[\"z\",5.5],[3,[\"a\"]]]"
   ]
  },
  {
   "cell_type": "code",
   "execution_count": 161,
   "id": "1dc7208b-3db0-40b9-87c7-6170a261b792",
   "metadata": {},
   "outputs": [],
   "source": [
    "bVariable = complexList[0][3][1]"
   ]
  },
  {
   "cell_type": "code",
   "execution_count": 162,
   "id": "b7af0d37-9ca2-4e04-bb83-11994bd86638",
   "metadata": {},
   "outputs": [
    {
     "data": {
      "text/plain": [
       "'b'"
      ]
     },
     "execution_count": 162,
     "metadata": {},
     "output_type": "execute_result"
    }
   ],
   "source": [
    "bVariable"
   ]
  },
  {
   "cell_type": "code",
   "execution_count": 163,
   "id": "890cecb5-e462-49e3-bbe2-25fcb93bb358",
   "metadata": {},
   "outputs": [
    {
     "data": {
      "text/plain": [
       "[1, 5, 'derya', 4, [6, 'z']]"
      ]
     },
     "execution_count": 163,
     "metadata": {},
     "output_type": "execute_result"
    }
   ],
   "source": [
    "nestedList"
   ]
  },
  {
   "cell_type": "code",
   "execution_count": 166,
   "id": "92327b71-c07a-4530-83e8-31991c55c82b",
   "metadata": {},
   "outputs": [
    {
     "data": {
      "text/plain": [
       "list"
      ]
     },
     "execution_count": 166,
     "metadata": {},
     "output_type": "execute_result"
    }
   ],
   "source": [
    "type(nestedList[:2])"
   ]
  },
  {
   "cell_type": "code",
   "execution_count": 167,
   "id": "d3b765aa-26f0-4dab-a5bd-8bfb97733c7d",
   "metadata": {},
   "outputs": [
    {
     "data": {
      "text/plain": [
       "str"
      ]
     },
     "execution_count": 167,
     "metadata": {},
     "output_type": "execute_result"
    }
   ],
   "source": [
    "type(nestedList[2])"
   ]
  },
  {
   "cell_type": "code",
   "execution_count": null,
   "id": "284f009d-0fe6-4e2a-85c1-4a1012759162",
   "metadata": {},
   "outputs": [],
   "source": []
  }
 ],
 "metadata": {
  "kernelspec": {
   "display_name": "Python [conda env:base] *",
   "language": "python",
   "name": "conda-base-py"
  },
  "language_info": {
   "codemirror_mode": {
    "name": "ipython",
    "version": 3
   },
   "file_extension": ".py",
   "mimetype": "text/x-python",
   "name": "python",
   "nbconvert_exporter": "python",
   "pygments_lexer": "ipython3",
   "version": "3.12.7"
  }
 },
 "nbformat": 4,
 "nbformat_minor": 5
}
