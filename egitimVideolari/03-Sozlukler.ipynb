{
 "cells": [
  {
   "cell_type": "code",
   "execution_count": 18,
   "id": "c2821d9a-954a-47bc-8b91-1417aab8f2a1",
   "metadata": {},
   "outputs": [],
   "source": [
    "myList = [1,2,3]"
   ]
  },
  {
   "cell_type": "code",
   "execution_count": 19,
   "id": "c7e134ae-2a59-46a9-bd40-6999f0bd6465",
   "metadata": {},
   "outputs": [
    {
     "data": {
      "text/plain": [
       "1"
      ]
     },
     "execution_count": 19,
     "metadata": {},
     "output_type": "execute_result"
    }
   ],
   "source": [
    "myList[0]"
   ]
  },
  {
   "cell_type": "markdown",
   "id": "c2b35bf0-31fc-48f7-8147-2f1d54b6087e",
   "metadata": {},
   "source": [
    "## key-value pairing(anahtar kelime-değer eşleşmesi)"
   ]
  },
  {
   "cell_type": "code",
   "execution_count": 20,
   "id": "4a606afb-bc6e-4e32-afa0-c46a26eb07de",
   "metadata": {},
   "outputs": [],
   "source": [
    "myMeals = [\"Elma\",\"Karpuz\",\"Muz\"]"
   ]
  },
  {
   "cell_type": "code",
   "execution_count": 21,
   "id": "69c619c2-60ce-4b1b-b8ae-eadf29ada36d",
   "metadata": {},
   "outputs": [],
   "source": [
    "myCalories = [100,200,300]"
   ]
  },
  {
   "cell_type": "code",
   "execution_count": 22,
   "id": "d6486542-0b8a-4dbf-8b5b-4bee2e8e02e8",
   "metadata": {},
   "outputs": [
    {
     "data": {
      "text/plain": [
       "'Karpuz'"
      ]
     },
     "execution_count": 22,
     "metadata": {},
     "output_type": "execute_result"
    }
   ],
   "source": [
    "myMeals[1]"
   ]
  },
  {
   "cell_type": "code",
   "execution_count": 23,
   "id": "db28145b-17b1-4896-91b2-a058c44a1280",
   "metadata": {},
   "outputs": [
    {
     "data": {
      "text/plain": [
       "200"
      ]
     },
     "execution_count": 23,
     "metadata": {},
     "output_type": "execute_result"
    }
   ],
   "source": [
    "myCalories[1]"
   ]
  },
  {
   "cell_type": "code",
   "execution_count": 24,
   "id": "cc1df4f9-6436-4e96-81e1-081e067f76df",
   "metadata": {},
   "outputs": [],
   "source": [
    "#dictionary"
   ]
  },
  {
   "cell_type": "code",
   "execution_count": 25,
   "id": "aea0349a-a477-4718-9cbb-9348fec2e04c",
   "metadata": {},
   "outputs": [],
   "source": [
    "myDictionary = {\"anahtarkelime\" : \"değer\"}"
   ]
  },
  {
   "cell_type": "code",
   "execution_count": 26,
   "id": "3522834e-ef02-4f88-8bab-6f7ae9ccc742",
   "metadata": {},
   "outputs": [
    {
     "data": {
      "text/plain": [
       "{'anahtarkelime': 'değer'}"
      ]
     },
     "execution_count": 26,
     "metadata": {},
     "output_type": "execute_result"
    }
   ],
   "source": [
    "myDictionary"
   ]
  },
  {
   "cell_type": "code",
   "execution_count": 27,
   "id": "ff2fd599-fd48-41be-a839-110cd92f2334",
   "metadata": {},
   "outputs": [
    {
     "data": {
      "text/plain": [
       "dict"
      ]
     },
     "execution_count": 27,
     "metadata": {},
     "output_type": "execute_result"
    }
   ],
   "source": [
    "type(myDictionary)"
   ]
  },
  {
   "cell_type": "code",
   "execution_count": 28,
   "id": "b4986ca0-f8b6-4eb8-bbeb-a41c1d15b96d",
   "metadata": {},
   "outputs": [
    {
     "data": {
      "text/plain": [
       "'değer'"
      ]
     },
     "execution_count": 28,
     "metadata": {},
     "output_type": "execute_result"
    }
   ],
   "source": [
    "myDictionary[\"anahtarkelime\"]"
   ]
  },
  {
   "cell_type": "code",
   "execution_count": 29,
   "id": "2339183f-23e5-4fcc-855d-1c9f85cd07a8",
   "metadata": {},
   "outputs": [],
   "source": [
    "myFoodCalorieDictionary = {\"Elma\" : 100, \"Karpuz\" : 200, \"Muz\" : 300}"
   ]
  },
  {
   "cell_type": "code",
   "execution_count": 30,
   "id": "73875335-45b9-4185-a25e-3f84c8e23a10",
   "metadata": {},
   "outputs": [
    {
     "data": {
      "text/plain": [
       "{'Elma': 100, 'Karpuz': 200, 'Muz': 300}"
      ]
     },
     "execution_count": 30,
     "metadata": {},
     "output_type": "execute_result"
    }
   ],
   "source": [
    "myFoodCalorieDictionary"
   ]
  },
  {
   "cell_type": "code",
   "execution_count": 32,
   "id": "cb5d638a-7ae5-44cc-a01d-c9f9c9e65eb1",
   "metadata": {},
   "outputs": [
    {
     "data": {
      "text/plain": [
       "300"
      ]
     },
     "execution_count": 32,
     "metadata": {},
     "output_type": "execute_result"
    }
   ],
   "source": [
    "myFoodCalorieDictionary[\"Muz\"]"
   ]
  },
  {
   "cell_type": "code",
   "execution_count": 34,
   "id": "82d2d509-ab07-425b-a0e9-28a676c65804",
   "metadata": {},
   "outputs": [],
   "source": [
    "myFoodCalorieDictionary[\"Elma\"] = 200"
   ]
  },
  {
   "cell_type": "code",
   "execution_count": 35,
   "id": "6b9e9b90-1182-4954-8f64-f9c35a148af9",
   "metadata": {},
   "outputs": [
    {
     "data": {
      "text/plain": [
       "{'Elma': 200, 'Karpuz': 200, 'Muz': 300}"
      ]
     },
     "execution_count": 35,
     "metadata": {},
     "output_type": "execute_result"
    }
   ],
   "source": [
    "myFoodCalorieDictionary"
   ]
  },
  {
   "cell_type": "code",
   "execution_count": 38,
   "id": "b6cd2810-6a1f-4c65-9e72-3d3c9e95fb59",
   "metadata": {},
   "outputs": [],
   "source": [
    "myDifferentDictionary = {150 : \"derya\", 22 : \"zehra\", 31 : \"nigar\"}"
   ]
  },
  {
   "cell_type": "code",
   "execution_count": 39,
   "id": "17c4fd25-3ca9-4d62-a022-57cc8dbd6000",
   "metadata": {},
   "outputs": [
    {
     "data": {
      "text/plain": [
       "'nigar'"
      ]
     },
     "execution_count": 39,
     "metadata": {},
     "output_type": "execute_result"
    }
   ],
   "source": [
    "myDifferentDictionary[31]"
   ]
  },
  {
   "cell_type": "code",
   "execution_count": 41,
   "id": "34a4018c-4da3-436c-ae40-d370910d64c0",
   "metadata": {},
   "outputs": [],
   "source": [
    "newDictionary = {\"anahtar1\" : 100, \"anahtar2\" : [10,20,30,40,4.5,\"atıl\"], \"anahtar3\" : {\"anahtar9\" : 4}}"
   ]
  },
  {
   "cell_type": "code",
   "execution_count": 42,
   "id": "bb070006-a3ee-44e7-9dfd-c4cfa72022f6",
   "metadata": {},
   "outputs": [
    {
     "data": {
      "text/plain": [
       "dict_keys(['anahtar1', 'anahtar2', 'anahtar3'])"
      ]
     },
     "execution_count": 42,
     "metadata": {},
     "output_type": "execute_result"
    }
   ],
   "source": [
    "newDictionary.keys()"
   ]
  },
  {
   "cell_type": "code",
   "execution_count": 43,
   "id": "0fe29966-4b85-4995-8525-b21b9852a7ab",
   "metadata": {},
   "outputs": [
    {
     "data": {
      "text/plain": [
       "dict_values([100, [10, 20, 30, 40, 4.5, 'atıl'], {'anahtar9': 4}])"
      ]
     },
     "execution_count": 43,
     "metadata": {},
     "output_type": "execute_result"
    }
   ],
   "source": [
    "newDictionary.values()"
   ]
  },
  {
   "cell_type": "code",
   "execution_count": 49,
   "id": "ebd2e04b-30e6-4c0a-afcc-3176b975727f",
   "metadata": {},
   "outputs": [],
   "source": [
    "atilVariable = newDictionary[\"anahtar2\"][-1]"
   ]
  },
  {
   "cell_type": "code",
   "execution_count": 50,
   "id": "45cb6873-8702-4ed9-a8b4-80b422aa0f27",
   "metadata": {},
   "outputs": [
    {
     "data": {
      "text/plain": [
       "'atıl'"
      ]
     },
     "execution_count": 50,
     "metadata": {},
     "output_type": "execute_result"
    }
   ],
   "source": [
    "atilVariable"
   ]
  },
  {
   "cell_type": "code",
   "execution_count": 51,
   "id": "6deef4d8-3d3b-4086-a48c-2cbda6bb6f44",
   "metadata": {},
   "outputs": [],
   "source": [
    "fourVariable = newDictionary[\"anahtar3\"][\"anahtar9\"]"
   ]
  },
  {
   "cell_type": "code",
   "execution_count": 52,
   "id": "831c75c2-72ea-4ffb-90e7-633c862fe672",
   "metadata": {},
   "outputs": [
    {
     "data": {
      "text/plain": [
       "4"
      ]
     },
     "execution_count": 52,
     "metadata": {},
     "output_type": "execute_result"
    }
   ],
   "source": [
    "fourVariable"
   ]
  },
  {
   "cell_type": "code",
   "execution_count": null,
   "id": "e6ab2eb9-9dbb-4571-968a-5a334a4a5517",
   "metadata": {},
   "outputs": [],
   "source": []
  }
 ],
 "metadata": {
  "kernelspec": {
   "display_name": "Python [conda env:base] *",
   "language": "python",
   "name": "conda-base-py"
  },
  "language_info": {
   "codemirror_mode": {
    "name": "ipython",
    "version": 3
   },
   "file_extension": ".py",
   "mimetype": "text/x-python",
   "name": "python",
   "nbconvert_exporter": "python",
   "pygments_lexer": "ipython3",
   "version": "3.12.7"
  }
 },
 "nbformat": 4,
 "nbformat_minor": 5
}
