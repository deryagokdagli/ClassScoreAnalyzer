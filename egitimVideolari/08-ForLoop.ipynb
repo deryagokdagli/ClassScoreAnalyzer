{
 "cells": [
  {
   "cell_type": "code",
   "execution_count": 13,
   "id": "e956b92d-40ed-496a-8dca-4cd691defaf8",
   "metadata": {},
   "outputs": [],
   "source": [
    "myList = [10,20,30,40,50]"
   ]
  },
  {
   "cell_type": "code",
   "execution_count": 14,
   "id": "a5917c41-8243-4184-8316-4740cf86f5b1",
   "metadata": {},
   "outputs": [
    {
     "name": "stdout",
     "output_type": "stream",
     "text": [
      "evet içerisinde mevcut\n"
     ]
    }
   ],
   "source": [
    "if 10 in myList:\n",
    "    print(\"evet içerisinde mevcut\")"
   ]
  },
  {
   "cell_type": "code",
   "execution_count": 15,
   "id": "e97f8a4b-232e-41a8-bac6-20fad3ecd320",
   "metadata": {},
   "outputs": [
    {
     "data": {
      "text/plain": [
       "16.666666666666668"
      ]
     },
     "execution_count": 15,
     "metadata": {},
     "output_type": "execute_result"
    }
   ],
   "source": [
    "myList[0] * 5 / 3"
   ]
  },
  {
   "cell_type": "code",
   "execution_count": 16,
   "id": "74593add-b7be-40a9-9e49-03331f014440",
   "metadata": {},
   "outputs": [
    {
     "data": {
      "text/plain": [
       "33.333333333333336"
      ]
     },
     "execution_count": 16,
     "metadata": {},
     "output_type": "execute_result"
    }
   ],
   "source": [
    "myList[1] * 5 / 3"
   ]
  },
  {
   "cell_type": "code",
   "execution_count": 17,
   "id": "0c7e5052-23e1-4aca-8931-6dd1e8e0b140",
   "metadata": {},
   "outputs": [
    {
     "name": "stdout",
     "output_type": "stream",
     "text": [
      "döngü başladı\n",
      "16.666666666666668\n",
      "33.333333333333336\n",
      "50.0\n",
      "66.66666666666667\n",
      "83.33333333333333\n",
      "döngü bitti\n"
     ]
    }
   ],
   "source": [
    "print(\"döngü başladı\")\n",
    "for number in myList:\n",
    "    print(number * 5 / 3)\n",
    "print(\"döngü bitti\")"
   ]
  },
  {
   "cell_type": "code",
   "execution_count": 18,
   "id": "5b8a86fb-4bef-4ca5-a064-c193e5eb5e42",
   "metadata": {},
   "outputs": [
    {
     "name": "stdout",
     "output_type": "stream",
     "text": [
      "16.666666666666668\n",
      "33.333333333333336\n",
      "50.0\n",
      "66.66666666666667\n",
      "83.33333333333333\n"
     ]
    }
   ],
   "source": [
    "for num in myList:\n",
    "    newNumber = num * 5 / 3\n",
    "    print(newNumber)"
   ]
  },
  {
   "cell_type": "code",
   "execution_count": 19,
   "id": "9d57d545-67a5-4d8c-9cd1-b708d84437ef",
   "metadata": {},
   "outputs": [],
   "source": [
    "newList = [1,2,3,4,5,6]"
   ]
  },
  {
   "cell_type": "code",
   "execution_count": 28,
   "id": "56784ef9-b1ff-46c9-9ef3-eaea5364c6fc",
   "metadata": {},
   "outputs": [
    {
     "name": "stdout",
     "output_type": "stream",
     "text": [
      "2\n",
      "4\n",
      "6\n"
     ]
    }
   ],
   "source": [
    "for numeral in newList:\n",
    "    if numeral % 2 == 0:\n",
    "        print(numeral)"
   ]
  },
  {
   "cell_type": "code",
   "execution_count": 30,
   "id": "c767be6c-a9f0-49dc-b2bb-25626c66a56e",
   "metadata": {},
   "outputs": [],
   "source": [
    "newString = \"Derya Gökdağlı\""
   ]
  },
  {
   "cell_type": "code",
   "execution_count": 32,
   "id": "763866ca-a751-482c-a254-51bfaff0f0e9",
   "metadata": {},
   "outputs": [
    {
     "name": "stdout",
     "output_type": "stream",
     "text": [
      "D\n",
      "e\n",
      "r\n",
      "y\n",
      "a\n",
      " \n",
      "G\n",
      "ö\n",
      "k\n",
      "d\n",
      "a\n",
      "ğ\n",
      "l\n",
      "ı\n"
     ]
    }
   ],
   "source": [
    "for letter in newString:\n",
    "    print(letter)"
   ]
  },
  {
   "cell_type": "code",
   "execution_count": 33,
   "id": "071208b6-29d1-49ac-847e-24b4aaf9ffb9",
   "metadata": {},
   "outputs": [],
   "source": [
    "myTuple = (1,2,3,4,5)"
   ]
  },
  {
   "cell_type": "code",
   "execution_count": 35,
   "id": "4a2a00ff-018b-4578-b438-c35cc820beb6",
   "metadata": {},
   "outputs": [
    {
     "name": "stdout",
     "output_type": "stream",
     "text": [
      "-9\n",
      "-8\n",
      "-7\n",
      "-6\n",
      "-5\n"
     ]
    }
   ],
   "source": [
    "for element in myTuple:\n",
    "    print(element - 10)"
   ]
  },
  {
   "cell_type": "code",
   "execution_count": 36,
   "id": "88fea789-c9ea-4180-bb30-21a5d1a74688",
   "metadata": {},
   "outputs": [],
   "source": [
    "coordinateList = [(10.2,15.2),(32.4,16.3),(40.2,20.2)]"
   ]
  },
  {
   "cell_type": "code",
   "execution_count": 38,
   "id": "44bafa88-18ab-48bc-bd76-d13c3960cf5d",
   "metadata": {},
   "outputs": [
    {
     "data": {
      "text/plain": [
       "tuple"
      ]
     },
     "execution_count": 38,
     "metadata": {},
     "output_type": "execute_result"
    }
   ],
   "source": [
    "type(coordinateList[0])"
   ]
  },
  {
   "cell_type": "code",
   "execution_count": 41,
   "id": "4852df24-8cb7-4f70-abcb-7d20717ec705",
   "metadata": {},
   "outputs": [
    {
     "name": "stdout",
     "output_type": "stream",
     "text": [
      "(10.2, 15.2)\n",
      "(32.4, 16.3)\n",
      "(40.2, 20.2)\n"
     ]
    }
   ],
   "source": [
    "for element in coordinateList:\n",
    "    print(element)"
   ]
  },
  {
   "cell_type": "code",
   "execution_count": 44,
   "id": "7133796a-ae77-43fe-b7f8-ecec70aa66f5",
   "metadata": {},
   "outputs": [
    {
     "name": "stdout",
     "output_type": "stream",
     "text": [
      "10.2\n",
      "32.4\n",
      "40.2\n"
     ]
    }
   ],
   "source": [
    "for (x,y) in coordinateList:\n",
    "    print(x)"
   ]
  },
  {
   "cell_type": "code",
   "execution_count": 45,
   "id": "fbf79fbc-98a5-4f69-8879-3295cbefa0b0",
   "metadata": {},
   "outputs": [],
   "source": [
    "myStrangeList = [(1,2,3),(4,5,6),(7,8,9)]"
   ]
  },
  {
   "cell_type": "code",
   "execution_count": 46,
   "id": "f6b1e193-8ce0-41d7-97b5-bce3444372d5",
   "metadata": {},
   "outputs": [
    {
     "name": "stdout",
     "output_type": "stream",
     "text": [
      "3\n",
      "6\n",
      "9\n"
     ]
    }
   ],
   "source": [
    "for (x,y,z) in myStrangeList:\n",
    "    print(z)"
   ]
  },
  {
   "cell_type": "code",
   "execution_count": 47,
   "id": "ae6dc091-dd00-43fa-8166-239fe39ffded",
   "metadata": {},
   "outputs": [],
   "source": [
    "myDictionary = {\"muz\" : 150, \"portakal\" : 250, \"elma\" : 350}"
   ]
  },
  {
   "cell_type": "code",
   "execution_count": 50,
   "id": "6f8e90e2-6a57-4613-bf13-8757ec4d133a",
   "metadata": {},
   "outputs": [
    {
     "data": {
      "text/plain": [
       "dict_items([('muz', 150), ('portakal', 250), ('elma', 350)])"
      ]
     },
     "execution_count": 50,
     "metadata": {},
     "output_type": "execute_result"
    }
   ],
   "source": [
    "myDictionary.items()"
   ]
  },
  {
   "cell_type": "code",
   "execution_count": 57,
   "id": "7acdf41f-d07d-47d9-b0ac-6682caedf549",
   "metadata": {},
   "outputs": [
    {
     "name": "stdout",
     "output_type": "stream",
     "text": [
      "150\n",
      "250\n",
      "350\n"
     ]
    }
   ],
   "source": [
    "for (key,value) in myDictionary.items():\n",
    "    print(value)"
   ]
  }
 ],
 "metadata": {
  "kernelspec": {
   "display_name": "Python [conda env:base] *",
   "language": "python",
   "name": "conda-base-py"
  },
  "language_info": {
   "codemirror_mode": {
    "name": "ipython",
    "version": 3
   },
   "file_extension": ".py",
   "mimetype": "text/x-python",
   "name": "python",
   "nbconvert_exporter": "python",
   "pygments_lexer": "ipython3",
   "version": "3.12.7"
  }
 },
 "nbformat": 4,
 "nbformat_minor": 5
}
