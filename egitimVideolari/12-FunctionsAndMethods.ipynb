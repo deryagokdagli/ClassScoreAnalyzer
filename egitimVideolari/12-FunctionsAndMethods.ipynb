{
 "cells": [
  {
   "cell_type": "code",
   "execution_count": 6,
   "id": "37659fee-ff48-4066-addb-ec4e758dbed4",
   "metadata": {},
   "outputs": [],
   "source": [
    "myName = \"derya\""
   ]
  },
  {
   "cell_type": "code",
   "execution_count": 10,
   "id": "034493aa-7af6-4f17-b282-faefc569efd7",
   "metadata": {},
   "outputs": [],
   "source": [
    "myNewName = myName.upper()"
   ]
  },
  {
   "cell_type": "code",
   "execution_count": 11,
   "id": "be4e9444-edb8-4bd7-b080-b935d9fcd086",
   "metadata": {},
   "outputs": [
    {
     "data": {
      "text/plain": [
       "'DERYA'"
      ]
     },
     "execution_count": 11,
     "metadata": {},
     "output_type": "execute_result"
    }
   ],
   "source": [
    "myNewName"
   ]
  },
  {
   "cell_type": "code",
   "execution_count": 12,
   "id": "70b0cbbc-afbe-4113-a172-d943e6d0e1df",
   "metadata": {},
   "outputs": [
    {
     "data": {
      "text/plain": [
       "'derya'"
      ]
     },
     "execution_count": 12,
     "metadata": {},
     "output_type": "execute_result"
    }
   ],
   "source": [
    "myName"
   ]
  },
  {
   "cell_type": "code",
   "execution_count": 15,
   "id": "58d1b96c-6f23-423d-bc38-02bf82f2e6b1",
   "metadata": {},
   "outputs": [
    {
     "data": {
      "text/plain": [
       "'DERYA'"
      ]
     },
     "execution_count": 15,
     "metadata": {},
     "output_type": "execute_result"
    }
   ],
   "source": [
    "myName.upper()"
   ]
  },
  {
   "cell_type": "code",
   "execution_count": 18,
   "id": "ca49db07-c651-4157-bfce-cd146376120e",
   "metadata": {},
   "outputs": [],
   "source": [
    "def firstFunction():\n",
    "    print(\"ilk fonksiyonum\")"
   ]
  },
  {
   "cell_type": "code",
   "execution_count": 20,
   "id": "a90c0ed5-dfc0-4fd1-9c2a-00d662b70135",
   "metadata": {},
   "outputs": [
    {
     "name": "stdout",
     "output_type": "stream",
     "text": [
      "ilk fonksiyonum\n"
     ]
    }
   ],
   "source": [
    "firstFunction()"
   ]
  },
  {
   "cell_type": "markdown",
   "id": "bb070691-aeb1-42f7-8afc-ceede7d19dd0",
   "metadata": {},
   "source": [
    "## Input & Return"
   ]
  },
  {
   "cell_type": "code",
   "execution_count": 30,
   "id": "47d019bc-c019-4882-84eb-e824c994d0c6",
   "metadata": {},
   "outputs": [],
   "source": [
    "def helloWorld(yazdirilacakIsim):\n",
    "    print(\"Hello \" + str(yazdirilacakIsim))\n",
    "    print(yazdirilacakIsim)"
   ]
  },
  {
   "cell_type": "code",
   "execution_count": 31,
   "id": "292fc372-9104-42b8-bdd2-7da701438deb",
   "metadata": {},
   "outputs": [
    {
     "name": "stdout",
     "output_type": "stream",
     "text": [
      "Hello Atıl\n",
      "Atıl\n"
     ]
    }
   ],
   "source": [
    "helloWorld(\"Atıl\")"
   ]
  },
  {
   "cell_type": "code",
   "execution_count": 32,
   "id": "1209e008-6692-47c8-9281-159ad6e488e1",
   "metadata": {},
   "outputs": [
    {
     "name": "stdout",
     "output_type": "stream",
     "text": [
      "Hello Derya\n",
      "Derya\n"
     ]
    }
   ],
   "source": [
    "helloWorld(\"Derya\")"
   ]
  },
  {
   "cell_type": "code",
   "execution_count": 33,
   "id": "332043d7-0478-4668-8f8b-4f683f40c5a8",
   "metadata": {},
   "outputs": [],
   "source": [
    "def hello(isim = \"derya\"):\n",
    "    print(\"merhaba\")\n",
    "    print(isim)"
   ]
  },
  {
   "cell_type": "code",
   "execution_count": 34,
   "id": "34a454a1-1a88-4b81-950a-6cd6fa8935ab",
   "metadata": {},
   "outputs": [
    {
     "name": "stdout",
     "output_type": "stream",
     "text": [
      "merhaba\n",
      "derya\n"
     ]
    }
   ],
   "source": [
    "hello()"
   ]
  },
  {
   "cell_type": "code",
   "execution_count": 35,
   "id": "37ddcc57-55a5-442e-a628-8565e63fc99d",
   "metadata": {},
   "outputs": [
    {
     "name": "stdout",
     "output_type": "stream",
     "text": [
      "merhaba\n",
      "python\n"
     ]
    }
   ],
   "source": [
    "hello(\"python\")"
   ]
  },
  {
   "cell_type": "code",
   "execution_count": 4,
   "id": "35dbd716-0446-4c8a-8677-97478543b88e",
   "metadata": {},
   "outputs": [],
   "source": [
    "def toplama(numara1, numara2):\n",
    "    sonuc = numara1 + numara2\n",
    "    print(sonuc)"
   ]
  },
  {
   "cell_type": "code",
   "execution_count": 5,
   "id": "91214423-7f6d-4d57-abde-b59c9ccbadba",
   "metadata": {},
   "outputs": [
    {
     "name": "stdout",
     "output_type": "stream",
     "text": [
      "3\n"
     ]
    }
   ],
   "source": [
    "toplama(1,2)"
   ]
  },
  {
   "cell_type": "code",
   "execution_count": 6,
   "id": "8373e349-ef5d-4976-99ce-c98118134be9",
   "metadata": {},
   "outputs": [
    {
     "name": "stdout",
     "output_type": "stream",
     "text": [
      "-600\n"
     ]
    }
   ],
   "source": [
    "toplama(-250,-350)"
   ]
  },
  {
   "cell_type": "code",
   "execution_count": 8,
   "id": "03355d91-a397-46f9-9eb2-4497abaf6def",
   "metadata": {},
   "outputs": [],
   "source": [
    "def superToplama(num1,num2,num3):\n",
    "    print(num1+num2+num3)"
   ]
  },
  {
   "cell_type": "code",
   "execution_count": 9,
   "id": "15cb6898-ffb5-4731-bc26-34d9348e3895",
   "metadata": {},
   "outputs": [
    {
     "name": "stdout",
     "output_type": "stream",
     "text": [
      "6\n"
     ]
    }
   ],
   "source": [
    "superToplama(1,2,3)"
   ]
  },
  {
   "cell_type": "code",
   "execution_count": 10,
   "id": "bbcd85b3-ef2d-4aae-928a-ab2d16a0728b",
   "metadata": {},
   "outputs": [
    {
     "name": "stdout",
     "output_type": "stream",
     "text": [
      "30\n"
     ]
    }
   ],
   "source": [
    "newVariable = toplama(10,20)"
   ]
  },
  {
   "cell_type": "code",
   "execution_count": 12,
   "id": "b3f4b3c4-3129-464e-9fb7-b0196458eb09",
   "metadata": {},
   "outputs": [
    {
     "data": {
      "text/plain": [
       "NoneType"
      ]
     },
     "execution_count": 12,
     "metadata": {},
     "output_type": "execute_result"
    }
   ],
   "source": [
    "type(newVariable)"
   ]
  },
  {
   "cell_type": "code",
   "execution_count": 13,
   "id": "8b81f5fc-f06f-44b0-8997-c66bad3ed1ef",
   "metadata": {},
   "outputs": [],
   "source": [
    "def dondurmeliToplama(num1,num2):\n",
    "    return num1+num2"
   ]
  },
  {
   "cell_type": "code",
   "execution_count": 15,
   "id": "404a0cab-0f3f-4bc9-942e-e8c7018aeb22",
   "metadata": {},
   "outputs": [],
   "source": [
    "yeniSonuc = dondurmeliToplama(10,20)"
   ]
  },
  {
   "cell_type": "code",
   "execution_count": 16,
   "id": "70804009-3a8d-4571-8d80-6d874e5f8c3a",
   "metadata": {},
   "outputs": [
    {
     "data": {
      "text/plain": [
       "30"
      ]
     },
     "execution_count": 16,
     "metadata": {},
     "output_type": "execute_result"
    }
   ],
   "source": [
    "yeniSonuc"
   ]
  },
  {
   "cell_type": "code",
   "execution_count": 17,
   "id": "b35bfb65-bc12-46a7-adcf-7f1df9989082",
   "metadata": {},
   "outputs": [
    {
     "data": {
      "text/plain": [
       "int"
      ]
     },
     "execution_count": 17,
     "metadata": {},
     "output_type": "execute_result"
    }
   ],
   "source": [
    "type(yeniSonuc)"
   ]
  },
  {
   "cell_type": "code",
   "execution_count": 21,
   "id": "b6140dca-cbdb-4da4-81d6-3461eaaecbe7",
   "metadata": {},
   "outputs": [],
   "source": [
    "def kontrolFonksiyon(s):\n",
    "    if s == \"atıl\":\n",
    "        print(\"verdiğiniz string atıl\")\n",
    "    else:\n",
    "        print(\"verdiğiniz string başka bir şey\")"
   ]
  },
  {
   "cell_type": "code",
   "execution_count": 22,
   "id": "8c27a38c-fe74-4ade-b2ee-f8f8d17b3e84",
   "metadata": {},
   "outputs": [
    {
     "name": "stdout",
     "output_type": "stream",
     "text": [
      "verdiğiniz string atıl\n"
     ]
    }
   ],
   "source": [
    "kontrolFonksiyon(\"atıl\")"
   ]
  },
  {
   "cell_type": "code",
   "execution_count": 23,
   "id": "2051b1cd-c87f-45e3-b682-ccd0355d325b",
   "metadata": {},
   "outputs": [
    {
     "name": "stdout",
     "output_type": "stream",
     "text": [
      "verdiğiniz string başka bir şey\n"
     ]
    }
   ],
   "source": [
    "kontrolFonksiyon(\"derya\")"
   ]
  },
  {
   "cell_type": "markdown",
   "id": "12dca069-330f-4734-adeb-d093ecd66b9c",
   "metadata": {},
   "source": [
    "## Args & Kywargs"
   ]
  },
  {
   "cell_type": "code",
   "execution_count": 24,
   "id": "6298fa34-0df1-4772-bb45-6f3c9218dc3c",
   "metadata": {},
   "outputs": [],
   "source": [
    "def yeniToplama(*args):\n",
    "    return sum(args)"
   ]
  },
  {
   "cell_type": "code",
   "execution_count": 25,
   "id": "ccec626a-cdec-4c5f-afdc-8ba54ff3aa10",
   "metadata": {},
   "outputs": [
    {
     "data": {
      "text/plain": [
       "100"
      ]
     },
     "execution_count": 25,
     "metadata": {},
     "output_type": "execute_result"
    }
   ],
   "source": [
    "yeniToplama(10,20,30,40)"
   ]
  },
  {
   "cell_type": "code",
   "execution_count": 28,
   "id": "aeb5734b-4bba-4f5f-9384-331ff3353f0e",
   "metadata": {},
   "outputs": [
    {
     "data": {
      "text/plain": [
       "30"
      ]
     },
     "execution_count": 28,
     "metadata": {},
     "output_type": "execute_result"
    }
   ],
   "source": [
    "yeniToplama(10,20)"
   ]
  },
  {
   "cell_type": "code",
   "execution_count": 32,
   "id": "24526cad-1053-439b-b273-d63d5ceef96d",
   "metadata": {},
   "outputs": [],
   "source": [
    "def benimFonksiyonum(*args):\n",
    "    return(args)"
   ]
  },
  {
   "cell_type": "code",
   "execution_count": 34,
   "id": "44343e1d-d3bb-4641-8f0a-10ad8edeb743",
   "metadata": {},
   "outputs": [
    {
     "data": {
      "text/plain": [
       "tuple"
      ]
     },
     "execution_count": 34,
     "metadata": {},
     "output_type": "execute_result"
    }
   ],
   "source": [
    "type(benimFonksiyonum(10,20,30))"
   ]
  },
  {
   "cell_type": "code",
   "execution_count": 39,
   "id": "dfadffb4-50c1-45d9-9ccc-b1d349186a92",
   "metadata": {},
   "outputs": [],
   "source": [
    "def ornekFonksiyon(**kwargs):\n",
    "    return(kwargs)"
   ]
  },
  {
   "cell_type": "code",
   "execution_count": 40,
   "id": "5ef87d08-6e2b-40cd-a207-a5e19e027fcb",
   "metadata": {},
   "outputs": [
    {
     "data": {
      "text/plain": [
       "{'muz': 100, 'elma': 200, 'ananas': 300}"
      ]
     },
     "execution_count": 40,
     "metadata": {},
     "output_type": "execute_result"
    }
   ],
   "source": [
    "ornekFonksiyon(muz = 100, elma = 200, ananas = 300)"
   ]
  },
  {
   "cell_type": "code",
   "execution_count": 41,
   "id": "8c25d828-b3fc-465c-933b-94a78b142976",
   "metadata": {},
   "outputs": [
    {
     "data": {
      "text/plain": [
       "dict"
      ]
     },
     "execution_count": 41,
     "metadata": {},
     "output_type": "execute_result"
    }
   ],
   "source": [
    "type(ornekFonksiyon(muz = 100, elma = 200, ananas = 300))"
   ]
  },
  {
   "cell_type": "code",
   "execution_count": 42,
   "id": "7a7ddb2e-6237-4a0f-a411-4ba58eed4f54",
   "metadata": {},
   "outputs": [],
   "source": [
    "def keyWordKontrolu(**kwargs):\n",
    "    if \"atıl\" in kwargs:\n",
    "        print(\"atıl var\")\n",
    "    else:\n",
    "        print(\"atıl yok\")"
   ]
  },
  {
   "cell_type": "code",
   "execution_count": 45,
   "id": "6bfe3b25-e420-41a7-be0e-ae9ea3f0c69b",
   "metadata": {},
   "outputs": [
    {
     "name": "stdout",
     "output_type": "stream",
     "text": [
      "atıl var\n"
     ]
    }
   ],
   "source": [
    "keyWordKontrolu(atıl = 70, zeynep = 50, mehmet = 40)"
   ]
  },
  {
   "cell_type": "code",
   "execution_count": 46,
   "id": "28ad5b02-c14a-433b-8293-240bd6079e11",
   "metadata": {},
   "outputs": [
    {
     "name": "stdout",
     "output_type": "stream",
     "text": [
      "atıl yok\n"
     ]
    }
   ],
   "source": [
    "keyWordKontrolu(derya = 70, zeynep = 50, mehmet = 40)"
   ]
  },
  {
   "cell_type": "code",
   "execution_count": null,
   "id": "a905d532-10da-4005-995a-2d492f797386",
   "metadata": {},
   "outputs": [],
   "source": []
  }
 ],
 "metadata": {
  "kernelspec": {
   "display_name": "Python [conda env:base] *",
   "language": "python",
   "name": "conda-base-py"
  },
  "language_info": {
   "codemirror_mode": {
    "name": "ipython",
    "version": 3
   },
   "file_extension": ".py",
   "mimetype": "text/x-python",
   "name": "python",
   "nbconvert_exporter": "python",
   "pygments_lexer": "ipython3",
   "version": "3.12.7"
  }
 },
 "nbformat": 4,
 "nbformat_minor": 5
}
