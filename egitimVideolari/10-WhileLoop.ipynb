{
 "cells": [
  {
   "cell_type": "code",
   "execution_count": 41,
   "id": "4967b4e0-45d7-4eb9-a153-1a3352ade1dd",
   "metadata": {},
   "outputs": [
    {
     "name": "stdout",
     "output_type": "stream",
     "text": [
      "0\n",
      "1\n",
      "2\n",
      "3\n",
      "4\n",
      "5\n",
      "6\n",
      "7\n",
      "8\n",
      "9\n"
     ]
    }
   ],
   "source": [
    "x = 0 \n",
    "while x < 10:\n",
    "    print(x)\n",
    "    x = x + 1"
   ]
  },
  {
   "cell_type": "code",
   "execution_count": 42,
   "id": "a320fb7c-6300-4952-90d2-793b262fbf99",
   "metadata": {},
   "outputs": [],
   "source": [
    "myList = [1,2,3,4,5]"
   ]
  },
  {
   "cell_type": "code",
   "execution_count": 43,
   "id": "889dcd14-4e42-4328-a44f-5a6b245df33f",
   "metadata": {},
   "outputs": [
    {
     "data": {
      "text/plain": [
       "5"
      ]
     },
     "execution_count": 43,
     "metadata": {},
     "output_type": "execute_result"
    }
   ],
   "source": [
    "myList.pop()"
   ]
  },
  {
   "cell_type": "code",
   "execution_count": 44,
   "id": "a34e158f-b4d2-41f3-91e9-488c47dcec7d",
   "metadata": {},
   "outputs": [
    {
     "data": {
      "text/plain": [
       "[1, 2, 3, 4]"
      ]
     },
     "execution_count": 44,
     "metadata": {},
     "output_type": "execute_result"
    }
   ],
   "source": [
    "myList"
   ]
  },
  {
   "cell_type": "code",
   "execution_count": 45,
   "id": "8b1cc115-ce33-4ba9-8043-28e2abfbb690",
   "metadata": {},
   "outputs": [],
   "source": [
    "myList.append(5)"
   ]
  },
  {
   "cell_type": "code",
   "execution_count": 46,
   "id": "da95ebf8-1bbb-4640-8957-0244281dba08",
   "metadata": {},
   "outputs": [
    {
     "data": {
      "text/plain": [
       "[1, 2, 3, 4, 5]"
      ]
     },
     "execution_count": 46,
     "metadata": {},
     "output_type": "execute_result"
    }
   ],
   "source": [
    "myList"
   ]
  },
  {
   "cell_type": "code",
   "execution_count": 47,
   "id": "d108801a-cb4b-4e16-a02a-8f7d1e5181b7",
   "metadata": {},
   "outputs": [
    {
     "name": "stdout",
     "output_type": "stream",
     "text": [
      "3 hala listenin içinde\n",
      "3 hala listenin içinde\n",
      "3 hala listenin içinde\n"
     ]
    }
   ],
   "source": [
    "while 3 in myList:\n",
    "    print(\"3 hala listenin içinde\")\n",
    "    myList.pop()"
   ]
  },
  {
   "cell_type": "code",
   "execution_count": 48,
   "id": "61d0bc4d-853b-4e63-9ce2-d131bf9a71f1",
   "metadata": {},
   "outputs": [],
   "source": [
    "number = 0"
   ]
  },
  {
   "cell_type": "code",
   "execution_count": 49,
   "id": "9153638d-093a-4394-8668-0299d8550594",
   "metadata": {},
   "outputs": [
    {
     "name": "stdout",
     "output_type": "stream",
     "text": [
      "0\n",
      "1\n",
      "2\n",
      "3\n"
     ]
    }
   ],
   "source": [
    "while number < 5:\n",
    "    if number == 4:\n",
    "        break\n",
    "    print(number)\n",
    "    number = number + 1"
   ]
  },
  {
   "cell_type": "code",
   "execution_count": 50,
   "id": "4fdfae25-ff8c-47e5-a2e6-f343c026b906",
   "metadata": {},
   "outputs": [],
   "source": [
    "newVariable = 0"
   ]
  },
  {
   "cell_type": "code",
   "execution_count": 51,
   "id": "33998d97-8156-4ae8-ba01-daf719d7c0c6",
   "metadata": {},
   "outputs": [
    {
     "name": "stdout",
     "output_type": "stream",
     "text": [
      "Yeni değişkenin güncel değeri: 0\n",
      "Yeni değişkenin güncel değeri: 1\n",
      "Yeni değişkenin güncel değeri: 2\n",
      "Yeni değişkenin güncel değeri: 3\n",
      "Yeni değişkenin güncel değeri: 4\n",
      "Yeni değişkenin güncel değeri: 5\n",
      "Yeni değişkenin güncel değeri: 6\n",
      "Yeni değişkenin güncel değeri: 7\n",
      "Yeni değişkenin güncel değeri: 8\n",
      "Yeni değişkenin güncel değeri: 9\n",
      "Yeni değişkenin güncel değeri: 10\n",
      "Yeni değişkenin güncel değeri: 11\n",
      "Yeni değişkenin güncel değeri: 12\n",
      "Yeni değişkenin güncel değeri: 13\n",
      "Yeni değişkenin güncel değeri: 14\n"
     ]
    }
   ],
   "source": [
    "while newVariable < 15:\n",
    "    #print(\"Yeni değişkenin güncel değeri: \" + str(newVariable))\n",
    "    print(f\"Yeni değişkenin güncel değeri: {newVariable}\")\n",
    "    newVariable = newVariable + 1"
   ]
  },
  {
   "cell_type": "code",
   "execution_count": null,
   "id": "d3614975-7345-4f90-a454-2ac98a04180e",
   "metadata": {},
   "outputs": [],
   "source": []
  }
 ],
 "metadata": {
  "kernelspec": {
   "display_name": "Python [conda env:base] *",
   "language": "python",
   "name": "conda-base-py"
  },
  "language_info": {
   "codemirror_mode": {
    "name": "ipython",
    "version": 3
   },
   "file_extension": ".py",
   "mimetype": "text/x-python",
   "name": "python",
   "nbconvert_exporter": "python",
   "pygments_lexer": "ipython3",
   "version": "3.12.7"
  }
 },
 "nbformat": 4,
 "nbformat_minor": 5
}
