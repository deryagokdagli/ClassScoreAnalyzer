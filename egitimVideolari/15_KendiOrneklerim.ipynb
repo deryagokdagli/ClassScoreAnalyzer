{
 "cells": [
  {
   "cell_type": "markdown",
   "id": "2f713c5d-5bee-4aaa-83f4-635668bea8f1",
   "metadata": {},
   "source": [
    "## 1) Üniversite Not Ortalaması Hesaplayıcı"
   ]
  },
  {
   "cell_type": "code",
   "execution_count": 1,
   "id": "9bee37e2-a0e0-4ccf-8438-3e7aee88aeed",
   "metadata": {},
   "outputs": [
    {
     "name": "stdout",
     "output_type": "stream",
     "text": [
      "Lütfen sayısal bir değer giriniz.\n"
     ]
    }
   ],
   "source": [
    "def hesapla(dersKredisi,dersHarfNotu):\n",
    "    dersHarfleri = {\"AA\" : 4.0 ,\"BA\" : 3.5 ,\"BB\" : 3.0,\"CB\" : 2.5 ,\"CC\" : 2.0,\n",
    "                    \"DC\" : 1.5 ,\"DD\" : 1.0,\"FD\" : 0.5,\"FF\" : 0.0}\n",
    "\n",
    "    return dersKredisi * dersHarfleri[dersHarfNotu]\n",
    "    \n",
    "gecerliNotlar = {\"AA\", \"BA\", \"BB\", \"CB\", \"CC\", \"DC\", \"DD\", \"FD\", \"FF\"}\n",
    "gecerliKrediler = list(range(1,100))\n",
    "gecerliSayilar = list(range(1,100))\n",
    "\n",
    "toplamKredi = 0\n",
    "toplamNotKatsayisi = 0\n",
    "while True:\n",
    "    try:\n",
    "        dersSayi = int(input(\"Kaç dersiniz var? \"))\n",
    "        if dersSayi in gecerliSayilar:\n",
    "            break\n",
    "        print(\"Sayılar 1 ile 99 arasında olmalı.\")\n",
    "    except:\n",
    "        print(\"Lütfen sayısal bir değer giriniz.\")\n",
    "        \n",
    "for i in range(dersSayi):\n",
    "    dersAdi = input(f\"{i+1}. dersin adı: \")\n",
    "    while True:\n",
    "        try:\n",
    "            dersKredisi = int(input(f\"{dersAdi} dersinin kredisi: \"))\n",
    "            if dersKredisi in gecerliKrediler:\n",
    "                break\n",
    "            print(\"Kredi 1 ile 99 arasında olmalı.\")\n",
    "        except:\n",
    "            print(\"Lütfen sayısal bir değer giriniz.\")\n",
    "    \n",
    "    while True:\n",
    "        dersHarfNotu = input(f\"{dersAdi} dersinin harf notu (AA-FF): \")\n",
    "        if dersHarfNotu in gecerliNotlar:\n",
    "            break\n",
    "        print(\"Harf notunu düzgün giriniz. (AA-FF)\")\n",
    "        \n",
    "    toplamKredi = toplamKredi + dersKredisi\n",
    "    toplamNotKatsayisi = toplamNotKatsayisi + hesapla(dersKredisi,dersHarfNotu)\n",
    "\n",
    "gano = float(toplamNotKatsayisi / toplamKredi)\n",
    "print(f\"Genel Ağırlıklı Not Ortalamanız (GANO): {gano}\")"
   ]
  },
  {
   "cell_type": "code",
   "execution_count": null,
   "id": "37f1ba44-ada2-4562-a819-56ece69bc168",
   "metadata": {},
   "outputs": [],
   "source": []
  }
 ],
 "metadata": {
  "kernelspec": {
   "display_name": "Python 3",
   "language": "python",
   "name": "python3"
  },
  "language_info": {
   "codemirror_mode": {
    "name": "ipython",
    "version": 3
   },
   "file_extension": ".py",
   "mimetype": "text/x-python",
   "name": "python",
   "nbconvert_exporter": "python",
   "pygments_lexer": "ipython3",
   "version": "3.11.7"
  }
 },
 "nbformat": 4,
 "nbformat_minor": 5
}
