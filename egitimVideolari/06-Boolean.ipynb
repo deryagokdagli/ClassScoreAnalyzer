{
 "cells": [
  {
   "cell_type": "code",
   "execution_count": 30,
   "id": "0191e409-c8af-4782-bde6-d0cbccf45e93",
   "metadata": {},
   "outputs": [],
   "source": [
    "myBoolean = True"
   ]
  },
  {
   "cell_type": "code",
   "execution_count": 31,
   "id": "0d19f451-7c0b-4256-a4ff-465d0fc7df24",
   "metadata": {},
   "outputs": [
    {
     "data": {
      "text/plain": [
       "True"
      ]
     },
     "execution_count": 31,
     "metadata": {},
     "output_type": "execute_result"
    }
   ],
   "source": [
    "myBoolean"
   ]
  },
  {
   "cell_type": "code",
   "execution_count": 32,
   "id": "722920c3-f06b-4259-9741-e325a4767733",
   "metadata": {},
   "outputs": [
    {
     "data": {
      "text/plain": [
       "bool"
      ]
     },
     "execution_count": 32,
     "metadata": {},
     "output_type": "execute_result"
    }
   ],
   "source": [
    "type(myBoolean)"
   ]
  },
  {
   "cell_type": "code",
   "execution_count": 33,
   "id": "2a0af5c7-17c9-49d2-a909-faa726441b0d",
   "metadata": {},
   "outputs": [],
   "source": [
    "myBoolean = False"
   ]
  },
  {
   "cell_type": "code",
   "execution_count": 34,
   "id": "71b6647d-f987-4ef7-8b3b-ed259e9e8684",
   "metadata": {},
   "outputs": [
    {
     "data": {
      "text/plain": [
       "True"
      ]
     },
     "execution_count": 34,
     "metadata": {},
     "output_type": "execute_result"
    }
   ],
   "source": [
    "10 > 5"
   ]
  },
  {
   "cell_type": "code",
   "execution_count": 35,
   "id": "2ec4e058-6229-46ff-abf2-547797eabf2b",
   "metadata": {},
   "outputs": [
    {
     "data": {
      "text/plain": [
       "False"
      ]
     },
     "execution_count": 35,
     "metadata": {},
     "output_type": "execute_result"
    }
   ],
   "source": [
    "10 < 5"
   ]
  },
  {
   "cell_type": "code",
   "execution_count": 36,
   "id": "e3ca4200-65fb-47f0-bbfa-a9be4d73b3f8",
   "metadata": {},
   "outputs": [],
   "source": [
    "myList = [5000,10000,1000,3000,2000,4000]"
   ]
  },
  {
   "cell_type": "code",
   "execution_count": 37,
   "id": "64a671df-0207-4c6e-a7d6-3cb836a0df09",
   "metadata": {},
   "outputs": [
    {
     "data": {
      "text/plain": [
       "6"
      ]
     },
     "execution_count": 37,
     "metadata": {},
     "output_type": "execute_result"
    }
   ],
   "source": [
    "len(myList)"
   ]
  },
  {
   "cell_type": "code",
   "execution_count": 38,
   "id": "d5556501-2361-4b87-9c80-b6ec87fb8697",
   "metadata": {},
   "outputs": [
    {
     "data": {
      "text/plain": [
       "25000"
      ]
     },
     "execution_count": 38,
     "metadata": {},
     "output_type": "execute_result"
    }
   ],
   "source": [
    "sum(myList)"
   ]
  },
  {
   "cell_type": "code",
   "execution_count": 39,
   "id": "fc92586e-7bf5-4fdc-9822-b9d1aed5f81c",
   "metadata": {},
   "outputs": [],
   "source": [
    "average = sum(myList) / len(myList)"
   ]
  },
  {
   "cell_type": "code",
   "execution_count": 40,
   "id": "5dcfd6cd-9a15-4b80-9e14-84a6be7d9dc4",
   "metadata": {},
   "outputs": [
    {
     "data": {
      "text/plain": [
       "4166.666666666667"
      ]
     },
     "execution_count": 40,
     "metadata": {},
     "output_type": "execute_result"
    }
   ],
   "source": [
    "average"
   ]
  },
  {
   "cell_type": "code",
   "execution_count": 41,
   "id": "00276b48-e166-478b-b12c-77d5f0512d4d",
   "metadata": {},
   "outputs": [
    {
     "data": {
      "text/plain": [
       "False"
      ]
     },
     "execution_count": 41,
     "metadata": {},
     "output_type": "execute_result"
    }
   ],
   "source": [
    "myList[3] > average"
   ]
  },
  {
   "cell_type": "code",
   "execution_count": 42,
   "id": "23269661-4e2a-4de9-92bd-ea22e7f975d1",
   "metadata": {},
   "outputs": [
    {
     "name": "stdin",
     "output_type": "stream",
     "text": [
      "maaş bilgisini giriniz: 6000\n"
     ]
    }
   ],
   "source": [
    "userSalary = input(\"maaş bilgisini giriniz:\")"
   ]
  },
  {
   "cell_type": "code",
   "execution_count": 43,
   "id": "7d0399d7-4a8b-477b-8649-5e5567317e3a",
   "metadata": {},
   "outputs": [],
   "source": [
    "userSalaryInt = int(userSalary)"
   ]
  },
  {
   "cell_type": "code",
   "execution_count": 44,
   "id": "6a885f51-a919-42fc-8056-3854d43c4d4d",
   "metadata": {},
   "outputs": [
    {
     "data": {
      "text/plain": [
       "True"
      ]
     },
     "execution_count": 44,
     "metadata": {},
     "output_type": "execute_result"
    }
   ],
   "source": [
    "userSalaryInt > average"
   ]
  },
  {
   "cell_type": "code",
   "execution_count": 45,
   "id": "274688a1-ff59-4763-b7a6-f86e7044bce6",
   "metadata": {},
   "outputs": [],
   "source": [
    "x = 10\n",
    "y = 8"
   ]
  },
  {
   "cell_type": "code",
   "execution_count": 46,
   "id": "065409b0-6088-454c-b159-343602aceab3",
   "metadata": {},
   "outputs": [
    {
     "data": {
      "text/plain": [
       "True"
      ]
     },
     "execution_count": 46,
     "metadata": {},
     "output_type": "execute_result"
    }
   ],
   "source": [
    "x > y"
   ]
  },
  {
   "cell_type": "code",
   "execution_count": 47,
   "id": "36e54b5b-eb24-4cba-a9b9-2f0695fadf35",
   "metadata": {},
   "outputs": [
    {
     "data": {
      "text/plain": [
       "False"
      ]
     },
     "execution_count": 47,
     "metadata": {},
     "output_type": "execute_result"
    }
   ],
   "source": [
    "x < y"
   ]
  },
  {
   "cell_type": "code",
   "execution_count": 48,
   "id": "a0bd0050-a12c-4516-9661-f5d979f36ab8",
   "metadata": {},
   "outputs": [
    {
     "data": {
      "text/plain": [
       "True"
      ]
     },
     "execution_count": 48,
     "metadata": {},
     "output_type": "execute_result"
    }
   ],
   "source": [
    "x >= y"
   ]
  },
  {
   "cell_type": "code",
   "execution_count": 49,
   "id": "a8a35e6c-783c-4c9b-a50a-b8b382081367",
   "metadata": {},
   "outputs": [
    {
     "data": {
      "text/plain": [
       "False"
      ]
     },
     "execution_count": 49,
     "metadata": {},
     "output_type": "execute_result"
    }
   ],
   "source": [
    "x <= y"
   ]
  },
  {
   "cell_type": "code",
   "execution_count": 50,
   "id": "b357638c-2a92-4eab-b982-b8b38aa34563",
   "metadata": {},
   "outputs": [
    {
     "data": {
      "text/plain": [
       "False"
      ]
     },
     "execution_count": 50,
     "metadata": {},
     "output_type": "execute_result"
    }
   ],
   "source": [
    "x == y"
   ]
  },
  {
   "cell_type": "code",
   "execution_count": 51,
   "id": "e69a146c-4468-44d3-af36-c1cd9034b987",
   "metadata": {},
   "outputs": [
    {
     "data": {
      "text/plain": [
       "True"
      ]
     },
     "execution_count": 51,
     "metadata": {},
     "output_type": "execute_result"
    }
   ],
   "source": [
    "x != y #x ile y eşit değil "
   ]
  },
  {
   "cell_type": "code",
   "execution_count": 52,
   "id": "921fcc09-d587-4def-9373-5a80a5047da4",
   "metadata": {},
   "outputs": [
    {
     "data": {
      "text/plain": [
       "True"
      ]
     },
     "execution_count": 52,
     "metadata": {},
     "output_type": "execute_result"
    }
   ],
   "source": [
    "3 > 1 and 3 > 2"
   ]
  },
  {
   "cell_type": "code",
   "execution_count": 53,
   "id": "919e43e6-fb55-43f4-a526-03ef2fd7c0e3",
   "metadata": {},
   "outputs": [
    {
     "data": {
      "text/plain": [
       "False"
      ]
     },
     "execution_count": 53,
     "metadata": {},
     "output_type": "execute_result"
    }
   ],
   "source": [
    "3 < 1 and 3 > 2"
   ]
  },
  {
   "cell_type": "code",
   "execution_count": 54,
   "id": "47f4e578-34a4-4d6f-abbf-9706a8e5110b",
   "metadata": {},
   "outputs": [
    {
     "data": {
      "text/plain": [
       "True"
      ]
     },
     "execution_count": 54,
     "metadata": {},
     "output_type": "execute_result"
    }
   ],
   "source": [
    "2 < 1 or 1 > 0"
   ]
  },
  {
   "cell_type": "code",
   "execution_count": 55,
   "id": "c748f45c-66d6-4596-b88c-513fc06b893e",
   "metadata": {},
   "outputs": [
    {
     "data": {
      "text/plain": [
       "False"
      ]
     },
     "execution_count": 55,
     "metadata": {},
     "output_type": "execute_result"
    }
   ],
   "source": [
    "not 5==5"
   ]
  },
  {
   "cell_type": "code",
   "execution_count": 56,
   "id": "848f4f88-a73a-42e1-ace8-ca0c384ebbc6",
   "metadata": {},
   "outputs": [
    {
     "data": {
      "text/plain": [
       "True"
      ]
     },
     "execution_count": 56,
     "metadata": {},
     "output_type": "execute_result"
    }
   ],
   "source": [
    "5 == 5"
   ]
  },
  {
   "cell_type": "code",
   "execution_count": 57,
   "id": "50a34968-4e5f-4455-b235-5dd84f8c40ff",
   "metadata": {},
   "outputs": [
    {
     "data": {
      "text/plain": [
       "True"
      ]
     },
     "execution_count": 57,
     "metadata": {},
     "output_type": "execute_result"
    }
   ],
   "source": [
    "not 5 == 4"
   ]
  },
  {
   "cell_type": "code",
   "execution_count": null,
   "id": "db846834-faf1-4d69-879c-ee2b1b634c31",
   "metadata": {},
   "outputs": [],
   "source": []
  }
 ],
 "metadata": {
  "kernelspec": {
   "display_name": "Python [conda env:base] *",
   "language": "python",
   "name": "conda-base-py"
  },
  "language_info": {
   "codemirror_mode": {
    "name": "ipython",
    "version": 3
   },
   "file_extension": ".py",
   "mimetype": "text/x-python",
   "name": "python",
   "nbconvert_exporter": "python",
   "pygments_lexer": "ipython3",
   "version": "3.12.7"
  }
 },
 "nbformat": 4,
 "nbformat_minor": 5
}
