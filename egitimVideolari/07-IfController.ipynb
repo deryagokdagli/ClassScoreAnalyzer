{
 "cells": [
  {
   "cell_type": "code",
   "execution_count": 1,
   "id": "0657bdc8-15d6-47f5-ba72-2070a3422af0",
   "metadata": {},
   "outputs": [
    {
     "data": {
      "text/plain": [
       "True"
      ]
     },
     "execution_count": 1,
     "metadata": {},
     "output_type": "execute_result"
    }
   ],
   "source": [
    "3 > 1"
   ]
  },
  {
   "cell_type": "code",
   "execution_count": 2,
   "id": "3cd0ae89-e157-492d-8487-ed5c40b4dcb1",
   "metadata": {},
   "outputs": [
    {
     "name": "stdout",
     "output_type": "stream",
     "text": [
      "derya gökdağlı\n"
     ]
    }
   ],
   "source": [
    "if 3 > 1:\n",
    "    print(\"derya gökdağlı\")"
   ]
  },
  {
   "cell_type": "code",
   "execution_count": 4,
   "id": "8f790ab9-8fc2-474e-917c-0595f2e9a974",
   "metadata": {},
   "outputs": [
    {
     "name": "stdout",
     "output_type": "stream",
     "text": [
      "if koşunun dışına çıktık\n"
     ]
    }
   ],
   "source": [
    "if 3 > 4:\n",
    "    print(\"derya gökdağlı\")\n",
    "print(\"if koşunun dışına çıktık\")"
   ]
  },
  {
   "cell_type": "code",
   "execution_count": 15,
   "id": "af29dd1d-c881-4090-8dfd-335bc80eb2c3",
   "metadata": {},
   "outputs": [],
   "source": [
    "x = 4\n",
    "y = 4"
   ]
  },
  {
   "cell_type": "code",
   "execution_count": 17,
   "id": "082f507b-b746-4d9d-894a-aa6f605c3244",
   "metadata": {},
   "outputs": [
    {
     "name": "stdout",
     "output_type": "stream",
     "text": [
      "x ve y birbirine eşittir\n"
     ]
    }
   ],
   "source": [
    "if x > y:\n",
    "    print(\"x, y'den daha büyükmüş\")\n",
    "elif y > x:\n",
    "    print(\"y, x'den daha büyükmüş\")\n",
    "else:\n",
    "    print(\"x ve y birbirine eşittir\")"
   ]
  },
  {
   "cell_type": "code",
   "execution_count": 24,
   "id": "d4a7baec-6fa0-4136-aaae-6afc54bbf0b2",
   "metadata": {},
   "outputs": [
    {
     "name": "stdin",
     "output_type": "stream",
     "text": [
      "Choose your superhero:  Aquaman\n"
     ]
    }
   ],
   "source": [
    "myHero = input(\"Choose your superhero: \")"
   ]
  },
  {
   "cell_type": "code",
   "execution_count": 25,
   "id": "dad1c8a5-9e76-4345-8877-985a37bf802f",
   "metadata": {},
   "outputs": [
    {
     "name": "stdout",
     "output_type": "stream",
     "text": [
      "Bu kim gerçekten bilmiyoruz\n"
     ]
    }
   ],
   "source": [
    "if myHero == \"Batman\":\n",
    "    print(\"Batman'i seçtiniz, tebrikler\")\n",
    "elif myHero == \"Superman\":\n",
    "    print(\"Keşke Batman'i seçseydiniz\")\n",
    "elif myHero == \"Ironman\":\n",
    "    print(\"Ironman kimdir?\")\n",
    "else:\n",
    "    print(\"Bu kim gerçekten bilmiyoruz\")"
   ]
  },
  {
   "cell_type": "code",
   "execution_count": 29,
   "id": "5fe1a7ca-dbf5-4ed3-94d6-4b20e26b4e5e",
   "metadata": {},
   "outputs": [],
   "source": [
    "a = 10\n",
    "b = 20 \n",
    "c = 20"
   ]
  },
  {
   "cell_type": "code",
   "execution_count": 31,
   "id": "b35a2600-7d2f-4ab8-a009-11898bbc889d",
   "metadata": {},
   "outputs": [
    {
     "name": "stdout",
     "output_type": "stream",
     "text": [
      "Bu koşullar tutmadı\n"
     ]
    }
   ],
   "source": [
    "if a > b and b > c:\n",
    "    print(\"a, b'den büyük ve b, c'den büyük\")\n",
    "elif a < b and b < c:\n",
    "    print(\"a, b'den küçük ve b, c'den küçük\")\n",
    "else:\n",
    "    print(\"Bu koşullar tutmadı\")"
   ]
  },
  {
   "cell_type": "code",
   "execution_count": 39,
   "id": "a45f0604-30d1-4674-b0f6-df44d190b51e",
   "metadata": {},
   "outputs": [],
   "source": [
    "m = 10\n",
    "k = 4 \n",
    "l = 5"
   ]
  },
  {
   "cell_type": "code",
   "execution_count": 40,
   "id": "dfba9508-7728-4e31-859b-cd1d73aac8b4",
   "metadata": {},
   "outputs": [
    {
     "name": "stdout",
     "output_type": "stream",
     "text": [
      "bu çalıştırılacak mı?\n"
     ]
    }
   ],
   "source": [
    "if m > k or k > l:\n",
    "    print(\"bu çalıştırılacak mı?\")"
   ]
  },
  {
   "cell_type": "code",
   "execution_count": 61,
   "id": "d1baf3c8-e011-4aa3-a32e-4570d3685307",
   "metadata": {},
   "outputs": [],
   "source": [
    "characterLive = False"
   ]
  },
  {
   "cell_type": "code",
   "execution_count": 62,
   "id": "f7294f64-3e4a-4932-9556-8652f8fde7b1",
   "metadata": {},
   "outputs": [
    {
     "name": "stdout",
     "output_type": "stream",
     "text": [
      "Oyun karakteriniz yaşamıyor.\n"
     ]
    }
   ],
   "source": [
    "if characterLive == True:\n",
    "    print(\"Oyun karakteriniz yaşıyor.\")\n",
    "else:\n",
    "    print(\"Oyun karakteriniz yaşamıyor.\")"
   ]
  },
  {
   "cell_type": "code",
   "execution_count": 63,
   "id": "547c427a-6cf7-41e0-b75d-de0adfd3e613",
   "metadata": {},
   "outputs": [
    {
     "name": "stdout",
     "output_type": "stream",
     "text": [
      "Oyun karakteriniz yaşamıyor.\n"
     ]
    }
   ],
   "source": [
    "if characterLive:\n",
    "    print(\"Oyun karakteriniz yaşıyor.\")\n",
    "else:\n",
    "    print(\"Oyun karakteriniz yaşamıyor.\")"
   ]
  },
  {
   "cell_type": "code",
   "execution_count": 64,
   "id": "1e5e7ee9-34fa-4706-b152-64ab37f1a483",
   "metadata": {},
   "outputs": [
    {
     "name": "stdout",
     "output_type": "stream",
     "text": [
      "karakter canlı değil\n"
     ]
    }
   ],
   "source": [
    "if not characterLive:\n",
    "    print(\"karakter canlı değil\")"
   ]
  },
  {
   "cell_type": "code",
   "execution_count": 65,
   "id": "2308b822-a592-43ed-9d7d-c25b193b3af6",
   "metadata": {},
   "outputs": [],
   "source": [
    "myString = \"Derya Gökdağlı\""
   ]
  },
  {
   "cell_type": "code",
   "execution_count": 66,
   "id": "5755f22b-8fd9-4cd6-a7fc-8b9935f00491",
   "metadata": {},
   "outputs": [
    {
     "name": "stdout",
     "output_type": "stream",
     "text": [
      "değilmiş\n"
     ]
    }
   ],
   "source": [
    "if myString == \"derya gökdağlı\":\n",
    "    print(\"eşitmiş\")\n",
    "else:\n",
    "    print(\"değilmiş\")"
   ]
  },
  {
   "cell_type": "code",
   "execution_count": 73,
   "id": "35d62648-8744-4769-8c42-12340b1a5880",
   "metadata": {},
   "outputs": [
    {
     "name": "stdout",
     "output_type": "stream",
     "text": [
      "varmış\n"
     ]
    }
   ],
   "source": [
    "if \"Derya G\" in myString:\n",
    "    print(\"varmış\")\n",
    "else:\n",
    "    print(\"yokmuş\")"
   ]
  },
  {
   "cell_type": "code",
   "execution_count": 74,
   "id": "d89ec23b-28f5-4193-b7ce-7e1a49945c09",
   "metadata": {},
   "outputs": [],
   "source": [
    "myList = [10,20,30,40,50]"
   ]
  },
  {
   "cell_type": "code",
   "execution_count": 77,
   "id": "2c53da92-2911-4b91-a323-a2fda63a9283",
   "metadata": {},
   "outputs": [
    {
     "name": "stdout",
     "output_type": "stream",
     "text": [
      "hayır yok\n"
     ]
    }
   ],
   "source": [
    "if 60 in myList:\n",
    "    print(\"evet var\")\n",
    "else:\n",
    "    print(\"hayır yok\")"
   ]
  },
  {
   "cell_type": "code",
   "execution_count": 78,
   "id": "96d41c34-1882-4812-8e2a-e3ee8acec45b",
   "metadata": {},
   "outputs": [],
   "source": [
    "myDictionary = {\"muz\" : 100, \"elma\" : 200, \"armut\" : 300}"
   ]
  },
  {
   "cell_type": "code",
   "execution_count": 80,
   "id": "8253f4dc-3446-4bd2-a2c1-bcc13fc61a2f",
   "metadata": {},
   "outputs": [
    {
     "data": {
      "text/plain": [
       "dict_keys(['muz', 'elma', 'armut'])"
      ]
     },
     "execution_count": 80,
     "metadata": {},
     "output_type": "execute_result"
    }
   ],
   "source": [
    "myDictionary.keys()"
   ]
  },
  {
   "cell_type": "code",
   "execution_count": 81,
   "id": "0facd580-d49a-488a-be3a-db174e936908",
   "metadata": {},
   "outputs": [
    {
     "name": "stdout",
     "output_type": "stream",
     "text": [
      "varmış\n"
     ]
    }
   ],
   "source": [
    "if \"muz\" in myDictionary.keys():\n",
    "    print(\"varmış\")"
   ]
  },
  {
   "cell_type": "code",
   "execution_count": 83,
   "id": "bf63cf87-4316-4ca8-8f9e-6f7869aa9513",
   "metadata": {},
   "outputs": [
    {
     "name": "stdout",
     "output_type": "stream",
     "text": [
      "var\n"
     ]
    }
   ],
   "source": [
    "if 200 in myDictionary.values():\n",
    "    print(\"var\")"
   ]
  }
 ],
 "metadata": {
  "kernelspec": {
   "display_name": "Python [conda env:base] *",
   "language": "python",
   "name": "conda-base-py"
  },
  "language_info": {
   "codemirror_mode": {
    "name": "ipython",
    "version": 3
   },
   "file_extension": ".py",
   "mimetype": "text/x-python",
   "name": "python",
   "nbconvert_exporter": "python",
   "pygments_lexer": "ipython3",
   "version": "3.12.7"
  }
 },
 "nbformat": 4,
 "nbformat_minor": 5
}
