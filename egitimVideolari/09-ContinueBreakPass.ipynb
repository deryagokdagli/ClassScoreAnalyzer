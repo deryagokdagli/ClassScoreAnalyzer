{
 "cells": [
  {
   "cell_type": "code",
   "execution_count": 1,
   "id": "bc16739d-831c-40ea-a847-d700b8e0f1ed",
   "metadata": {},
   "outputs": [],
   "source": [
    "myList = [5,10,15,20,25,30]"
   ]
  },
  {
   "cell_type": "code",
   "execution_count": 3,
   "id": "95fa593d-be69-4d2c-9b6d-ff47cc018417",
   "metadata": {},
   "outputs": [
    {
     "name": "stdout",
     "output_type": "stream",
     "text": [
      "1.0\n",
      "2.0\n",
      "3.0\n",
      "4.0\n",
      "5.0\n",
      "6.0\n"
     ]
    }
   ],
   "source": [
    "for number in myList:\n",
    "    print(number / 5)"
   ]
  },
  {
   "cell_type": "code",
   "execution_count": 10,
   "id": "57163b2b-93dd-49ef-b104-014e09fe4595",
   "metadata": {},
   "outputs": [
    {
     "name": "stdout",
     "output_type": "stream",
     "text": [
      "5\n",
      "10\n"
     ]
    }
   ],
   "source": [
    "for number in myList:\n",
    "    if number == 15:\n",
    "        break # number 15e eşit ise dur.\n",
    "    print(number)"
   ]
  },
  {
   "cell_type": "code",
   "execution_count": 11,
   "id": "ac123a3a-b8c6-44b0-a9ed-948efc1698df",
   "metadata": {},
   "outputs": [
    {
     "name": "stdout",
     "output_type": "stream",
     "text": [
      "5\n",
      "10\n",
      "20\n",
      "25\n",
      "30\n"
     ]
    }
   ],
   "source": [
    "for number in myList:\n",
    "    if number == 15:\n",
    "        continue #number 15 e eşit ise atlayarak devam et.\n",
    "    print(number)"
   ]
  },
  {
   "cell_type": "code",
   "execution_count": 12,
   "id": "473cdeef-b539-45f6-9acd-90785f7cfa71",
   "metadata": {},
   "outputs": [],
   "source": [
    "for number in myList:\n",
    "    pass #işlem yapmayacaksak ya da sonra yapacaksak anlamı taşır."
   ]
  },
  {
   "cell_type": "code",
   "execution_count": null,
   "id": "11efbb9a-b9f4-4b78-b612-87bb40b71b72",
   "metadata": {},
   "outputs": [],
   "source": []
  }
 ],
 "metadata": {
  "kernelspec": {
   "display_name": "Python [conda env:base] *",
   "language": "python",
   "name": "conda-base-py"
  },
  "language_info": {
   "codemirror_mode": {
    "name": "ipython",
    "version": 3
   },
   "file_extension": ".py",
   "mimetype": "text/x-python",
   "name": "python",
   "nbconvert_exporter": "python",
   "pygments_lexer": "ipython3",
   "version": "3.12.7"
  }
 },
 "nbformat": 4,
 "nbformat_minor": 5
}
